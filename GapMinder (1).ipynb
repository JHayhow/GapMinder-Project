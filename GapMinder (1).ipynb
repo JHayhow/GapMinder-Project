{
 "cells": [
  {
   "cell_type": "markdown",
   "id": "0b3be518",
   "metadata": {},
   "source": [
    "A project investigating indicators of the quality of life of human beings round the globe.\n",
    "\n",
    "Four indicators have been chosen and any relationship between them investigated."
   ]
  },
  {
   "cell_type": "markdown",
   "id": "36fba894",
   "metadata": {},
   "source": [
    "The questions to be answered are:\n",
    "\n",
    "1. Is there any correlation or relationship between the global mean income per person (adjusted for inflation), the mean life expectancy, and the mean fertility rate?\n",
    "2. Is the rate of primary school completiona a good predictor for literacy in adult life?"
   ]
  },
  {
   "cell_type": "code",
   "execution_count": 1,
   "id": "9833f467",
   "metadata": {},
   "outputs": [],
   "source": [
    "import pandas as pd\n",
    "import matplotlib.pyplot as plt\n",
    "import numpy as np"
   ]
  },
  {
   "cell_type": "markdown",
   "id": "ef967daa",
   "metadata": {},
   "source": [
    "Data wrangling!"
   ]
  },
  {
   "cell_type": "markdown",
   "id": "55eb10a6",
   "metadata": {},
   "source": [
    "Three datasets have been selected: the mean life expectancy per country, the fertility rate per country, and the mean income per person (having accounted for differences in GDP). \n",
    "\n",
    "The first goal is to get some information on each dataset and how they fit together, what they have in common, and what may need to be cleaned.\n",
    "\n",
    "All datasets were obtained from Gapminder.org on 18/10/2021.\n",
    "\n",
    "Fertility rate data: http://gapm.io/dtfr\n",
    "Life expectancy data: http://gapm.io/ilex\n",
    "Income per capita data: http://gapm.io/dgdppc Gapminder based on World Bank, A. Maddison\n",
    "\n",
    "The pandas documentation and stackoverflow were consulted frequently for help with code."
   ]
  },
  {
   "cell_type": "code",
   "execution_count": 2,
   "id": "6ed9a43c",
   "metadata": {},
   "outputs": [
    {
     "data": {
      "text/html": [
       "<div>\n",
       "<style scoped>\n",
       "    .dataframe tbody tr th:only-of-type {\n",
       "        vertical-align: middle;\n",
       "    }\n",
       "\n",
       "    .dataframe tbody tr th {\n",
       "        vertical-align: top;\n",
       "    }\n",
       "\n",
       "    .dataframe thead th {\n",
       "        text-align: right;\n",
       "    }\n",
       "</style>\n",
       "<table border=\"1\" class=\"dataframe\">\n",
       "  <thead>\n",
       "    <tr style=\"text-align: right;\">\n",
       "      <th></th>\n",
       "      <th>country</th>\n",
       "      <th>1799</th>\n",
       "      <th>1800</th>\n",
       "      <th>1801</th>\n",
       "      <th>1802</th>\n",
       "      <th>1803</th>\n",
       "      <th>1804</th>\n",
       "      <th>1805</th>\n",
       "      <th>1806</th>\n",
       "      <th>1807</th>\n",
       "      <th>...</th>\n",
       "      <th>2091</th>\n",
       "      <th>2092</th>\n",
       "      <th>2093</th>\n",
       "      <th>2094</th>\n",
       "      <th>2095</th>\n",
       "      <th>2096</th>\n",
       "      <th>2097</th>\n",
       "      <th>2098</th>\n",
       "      <th>2099</th>\n",
       "      <th>2100</th>\n",
       "    </tr>\n",
       "  </thead>\n",
       "  <tbody>\n",
       "    <tr>\n",
       "      <th>0</th>\n",
       "      <td>Afghanistan</td>\n",
       "      <td>28.2</td>\n",
       "      <td>28.2</td>\n",
       "      <td>28.2</td>\n",
       "      <td>28.2</td>\n",
       "      <td>28.2</td>\n",
       "      <td>28.2</td>\n",
       "      <td>28.1</td>\n",
       "      <td>28.1</td>\n",
       "      <td>28.1</td>\n",
       "      <td>...</td>\n",
       "      <td>75.5</td>\n",
       "      <td>75.7</td>\n",
       "      <td>75.8</td>\n",
       "      <td>76.0</td>\n",
       "      <td>76.1</td>\n",
       "      <td>76.2</td>\n",
       "      <td>76.4</td>\n",
       "      <td>76.5</td>\n",
       "      <td>76.6</td>\n",
       "      <td>76.8</td>\n",
       "    </tr>\n",
       "    <tr>\n",
       "      <th>1</th>\n",
       "      <td>Angola</td>\n",
       "      <td>27.0</td>\n",
       "      <td>27.0</td>\n",
       "      <td>27.0</td>\n",
       "      <td>27.0</td>\n",
       "      <td>27.0</td>\n",
       "      <td>27.0</td>\n",
       "      <td>27.0</td>\n",
       "      <td>27.0</td>\n",
       "      <td>27.0</td>\n",
       "      <td>...</td>\n",
       "      <td>78.8</td>\n",
       "      <td>79.0</td>\n",
       "      <td>79.1</td>\n",
       "      <td>79.2</td>\n",
       "      <td>79.3</td>\n",
       "      <td>79.5</td>\n",
       "      <td>79.6</td>\n",
       "      <td>79.7</td>\n",
       "      <td>79.9</td>\n",
       "      <td>80.0</td>\n",
       "    </tr>\n",
       "    <tr>\n",
       "      <th>2</th>\n",
       "      <td>Albania</td>\n",
       "      <td>35.4</td>\n",
       "      <td>35.4</td>\n",
       "      <td>35.4</td>\n",
       "      <td>35.4</td>\n",
       "      <td>35.4</td>\n",
       "      <td>35.4</td>\n",
       "      <td>35.4</td>\n",
       "      <td>35.4</td>\n",
       "      <td>35.4</td>\n",
       "      <td>...</td>\n",
       "      <td>87.4</td>\n",
       "      <td>87.5</td>\n",
       "      <td>87.6</td>\n",
       "      <td>87.7</td>\n",
       "      <td>87.8</td>\n",
       "      <td>87.9</td>\n",
       "      <td>88.0</td>\n",
       "      <td>88.2</td>\n",
       "      <td>88.3</td>\n",
       "      <td>88.4</td>\n",
       "    </tr>\n",
       "    <tr>\n",
       "      <th>3</th>\n",
       "      <td>Andorra</td>\n",
       "      <td>NaN</td>\n",
       "      <td>NaN</td>\n",
       "      <td>NaN</td>\n",
       "      <td>NaN</td>\n",
       "      <td>NaN</td>\n",
       "      <td>NaN</td>\n",
       "      <td>NaN</td>\n",
       "      <td>NaN</td>\n",
       "      <td>NaN</td>\n",
       "      <td>...</td>\n",
       "      <td>NaN</td>\n",
       "      <td>NaN</td>\n",
       "      <td>NaN</td>\n",
       "      <td>NaN</td>\n",
       "      <td>NaN</td>\n",
       "      <td>NaN</td>\n",
       "      <td>NaN</td>\n",
       "      <td>NaN</td>\n",
       "      <td>NaN</td>\n",
       "      <td>NaN</td>\n",
       "    </tr>\n",
       "    <tr>\n",
       "      <th>4</th>\n",
       "      <td>United Arab Emirates</td>\n",
       "      <td>30.7</td>\n",
       "      <td>30.7</td>\n",
       "      <td>30.7</td>\n",
       "      <td>30.7</td>\n",
       "      <td>30.7</td>\n",
       "      <td>30.7</td>\n",
       "      <td>30.7</td>\n",
       "      <td>30.7</td>\n",
       "      <td>30.7</td>\n",
       "      <td>...</td>\n",
       "      <td>82.4</td>\n",
       "      <td>82.5</td>\n",
       "      <td>82.6</td>\n",
       "      <td>82.7</td>\n",
       "      <td>82.8</td>\n",
       "      <td>82.9</td>\n",
       "      <td>83.0</td>\n",
       "      <td>83.1</td>\n",
       "      <td>83.2</td>\n",
       "      <td>83.3</td>\n",
       "    </tr>\n",
       "  </tbody>\n",
       "</table>\n",
       "<p>5 rows × 302 columns</p>\n",
       "</div>"
      ],
      "text/plain": [
       "                country  1799  1800  1801  1802  1803  1804  1805  1806  1807  \\\n",
       "0           Afghanistan  28.2  28.2  28.2  28.2  28.2  28.2  28.1  28.1  28.1   \n",
       "1                Angola  27.0  27.0  27.0  27.0  27.0  27.0  27.0  27.0  27.0   \n",
       "2               Albania  35.4  35.4  35.4  35.4  35.4  35.4  35.4  35.4  35.4   \n",
       "3               Andorra   NaN   NaN   NaN   NaN   NaN   NaN   NaN   NaN   NaN   \n",
       "4  United Arab Emirates  30.7  30.7  30.7  30.7  30.7  30.7  30.7  30.7  30.7   \n",
       "\n",
       "   ...  2091  2092  2093  2094  2095  2096  2097  2098  2099  2100  \n",
       "0  ...  75.5  75.7  75.8  76.0  76.1  76.2  76.4  76.5  76.6  76.8  \n",
       "1  ...  78.8  79.0  79.1  79.2  79.3  79.5  79.6  79.7  79.9  80.0  \n",
       "2  ...  87.4  87.5  87.6  87.7  87.8  87.9  88.0  88.2  88.3  88.4  \n",
       "3  ...   NaN   NaN   NaN   NaN   NaN   NaN   NaN   NaN   NaN   NaN  \n",
       "4  ...  82.4  82.5  82.6  82.7  82.8  82.9  83.0  83.1  83.2  83.3  \n",
       "\n",
       "[5 rows x 302 columns]"
      ]
     },
     "execution_count": 2,
     "metadata": {},
     "output_type": "execute_result"
    }
   ],
   "source": [
    "life_expectancy_years = pd.read_csv('life_expectancy_years.csv')\n",
    "life_expectancy_years.head()"
   ]
  },
  {
   "cell_type": "code",
   "execution_count": 3,
   "id": "fa639fd7",
   "metadata": {},
   "outputs": [
    {
     "name": "stdout",
     "output_type": "stream",
     "text": [
      "<class 'pandas.core.frame.DataFrame'>\n",
      "RangeIndex: 195 entries, 0 to 194\n",
      "Columns: 302 entries, country to 2100\n",
      "dtypes: float64(301), object(1)\n",
      "memory usage: 460.2+ KB\n"
     ]
    }
   ],
   "source": [
    "life_expectancy_years.info()"
   ]
  },
  {
   "cell_type": "code",
   "execution_count": 4,
   "id": "eded7fde",
   "metadata": {},
   "outputs": [
    {
     "data": {
      "text/html": [
       "<div>\n",
       "<style scoped>\n",
       "    .dataframe tbody tr th:only-of-type {\n",
       "        vertical-align: middle;\n",
       "    }\n",
       "\n",
       "    .dataframe tbody tr th {\n",
       "        vertical-align: top;\n",
       "    }\n",
       "\n",
       "    .dataframe thead th {\n",
       "        text-align: right;\n",
       "    }\n",
       "</style>\n",
       "<table border=\"1\" class=\"dataframe\">\n",
       "  <thead>\n",
       "    <tr style=\"text-align: right;\">\n",
       "      <th></th>\n",
       "      <th>1799</th>\n",
       "      <th>1800</th>\n",
       "      <th>1801</th>\n",
       "      <th>1802</th>\n",
       "      <th>1803</th>\n",
       "      <th>1804</th>\n",
       "      <th>1805</th>\n",
       "      <th>1806</th>\n",
       "      <th>1807</th>\n",
       "      <th>1808</th>\n",
       "      <th>...</th>\n",
       "      <th>2091</th>\n",
       "      <th>2092</th>\n",
       "      <th>2093</th>\n",
       "      <th>2094</th>\n",
       "      <th>2095</th>\n",
       "      <th>2096</th>\n",
       "      <th>2097</th>\n",
       "      <th>2098</th>\n",
       "      <th>2099</th>\n",
       "      <th>2100</th>\n",
       "    </tr>\n",
       "  </thead>\n",
       "  <tbody>\n",
       "    <tr>\n",
       "      <th>count</th>\n",
       "      <td>186.000000</td>\n",
       "      <td>186.000000</td>\n",
       "      <td>186.000000</td>\n",
       "      <td>186.000000</td>\n",
       "      <td>186.000000</td>\n",
       "      <td>186.000000</td>\n",
       "      <td>186.000000</td>\n",
       "      <td>186.000000</td>\n",
       "      <td>186.000000</td>\n",
       "      <td>186.000000</td>\n",
       "      <td>...</td>\n",
       "      <td>186.000000</td>\n",
       "      <td>186.000000</td>\n",
       "      <td>186.000000</td>\n",
       "      <td>186.000000</td>\n",
       "      <td>186.000000</td>\n",
       "      <td>186.000000</td>\n",
       "      <td>186.000000</td>\n",
       "      <td>186.000000</td>\n",
       "      <td>186.000000</td>\n",
       "      <td>186.000000</td>\n",
       "    </tr>\n",
       "    <tr>\n",
       "      <th>mean</th>\n",
       "      <td>31.503763</td>\n",
       "      <td>31.463441</td>\n",
       "      <td>31.480108</td>\n",
       "      <td>31.385484</td>\n",
       "      <td>31.460753</td>\n",
       "      <td>31.586559</td>\n",
       "      <td>31.644086</td>\n",
       "      <td>31.598387</td>\n",
       "      <td>31.385484</td>\n",
       "      <td>31.313441</td>\n",
       "      <td>...</td>\n",
       "      <td>83.361828</td>\n",
       "      <td>83.476344</td>\n",
       "      <td>83.600538</td>\n",
       "      <td>83.717742</td>\n",
       "      <td>83.838172</td>\n",
       "      <td>83.955376</td>\n",
       "      <td>84.076344</td>\n",
       "      <td>84.193548</td>\n",
       "      <td>84.312903</td>\n",
       "      <td>84.430645</td>\n",
       "    </tr>\n",
       "    <tr>\n",
       "      <th>std</th>\n",
       "      <td>3.809510</td>\n",
       "      <td>3.801217</td>\n",
       "      <td>3.932344</td>\n",
       "      <td>3.955872</td>\n",
       "      <td>3.928388</td>\n",
       "      <td>4.003874</td>\n",
       "      <td>4.102694</td>\n",
       "      <td>3.974506</td>\n",
       "      <td>4.080230</td>\n",
       "      <td>4.033412</td>\n",
       "      <td>...</td>\n",
       "      <td>5.803782</td>\n",
       "      <td>5.797854</td>\n",
       "      <td>5.788922</td>\n",
       "      <td>5.777904</td>\n",
       "      <td>5.770755</td>\n",
       "      <td>5.766333</td>\n",
       "      <td>5.756555</td>\n",
       "      <td>5.750616</td>\n",
       "      <td>5.743805</td>\n",
       "      <td>5.741341</td>\n",
       "    </tr>\n",
       "    <tr>\n",
       "      <th>min</th>\n",
       "      <td>23.400000</td>\n",
       "      <td>23.400000</td>\n",
       "      <td>23.400000</td>\n",
       "      <td>19.600000</td>\n",
       "      <td>23.400000</td>\n",
       "      <td>23.400000</td>\n",
       "      <td>23.400000</td>\n",
       "      <td>23.400000</td>\n",
       "      <td>12.500000</td>\n",
       "      <td>13.400000</td>\n",
       "      <td>...</td>\n",
       "      <td>66.400000</td>\n",
       "      <td>66.500000</td>\n",
       "      <td>66.700000</td>\n",
       "      <td>66.800000</td>\n",
       "      <td>66.900000</td>\n",
       "      <td>67.000000</td>\n",
       "      <td>67.100000</td>\n",
       "      <td>67.200000</td>\n",
       "      <td>67.300000</td>\n",
       "      <td>67.400000</td>\n",
       "    </tr>\n",
       "    <tr>\n",
       "      <th>25%</th>\n",
       "      <td>29.025000</td>\n",
       "      <td>28.925000</td>\n",
       "      <td>28.900000</td>\n",
       "      <td>28.900000</td>\n",
       "      <td>28.925000</td>\n",
       "      <td>29.025000</td>\n",
       "      <td>29.025000</td>\n",
       "      <td>29.025000</td>\n",
       "      <td>28.925000</td>\n",
       "      <td>28.825000</td>\n",
       "      <td>...</td>\n",
       "      <td>79.650000</td>\n",
       "      <td>79.750000</td>\n",
       "      <td>79.925000</td>\n",
       "      <td>80.025000</td>\n",
       "      <td>80.150000</td>\n",
       "      <td>80.325000</td>\n",
       "      <td>80.425000</td>\n",
       "      <td>80.525000</td>\n",
       "      <td>80.700000</td>\n",
       "      <td>80.800000</td>\n",
       "    </tr>\n",
       "    <tr>\n",
       "      <th>50%</th>\n",
       "      <td>31.750000</td>\n",
       "      <td>31.650000</td>\n",
       "      <td>31.550000</td>\n",
       "      <td>31.500000</td>\n",
       "      <td>31.550000</td>\n",
       "      <td>31.650000</td>\n",
       "      <td>31.750000</td>\n",
       "      <td>31.750000</td>\n",
       "      <td>31.550000</td>\n",
       "      <td>31.500000</td>\n",
       "      <td>...</td>\n",
       "      <td>84.000000</td>\n",
       "      <td>84.100000</td>\n",
       "      <td>84.250000</td>\n",
       "      <td>84.300000</td>\n",
       "      <td>84.500000</td>\n",
       "      <td>84.600000</td>\n",
       "      <td>84.700000</td>\n",
       "      <td>84.800000</td>\n",
       "      <td>84.900000</td>\n",
       "      <td>85.000000</td>\n",
       "    </tr>\n",
       "    <tr>\n",
       "      <th>75%</th>\n",
       "      <td>33.875000</td>\n",
       "      <td>33.900000</td>\n",
       "      <td>33.875000</td>\n",
       "      <td>33.675000</td>\n",
       "      <td>33.775000</td>\n",
       "      <td>33.875000</td>\n",
       "      <td>33.975000</td>\n",
       "      <td>33.975000</td>\n",
       "      <td>33.775000</td>\n",
       "      <td>33.675000</td>\n",
       "      <td>...</td>\n",
       "      <td>87.775000</td>\n",
       "      <td>87.875000</td>\n",
       "      <td>87.975000</td>\n",
       "      <td>88.075000</td>\n",
       "      <td>88.175000</td>\n",
       "      <td>88.300000</td>\n",
       "      <td>88.400000</td>\n",
       "      <td>88.500000</td>\n",
       "      <td>88.675000</td>\n",
       "      <td>88.775000</td>\n",
       "    </tr>\n",
       "    <tr>\n",
       "      <th>max</th>\n",
       "      <td>42.900000</td>\n",
       "      <td>40.300000</td>\n",
       "      <td>44.400000</td>\n",
       "      <td>44.800000</td>\n",
       "      <td>42.800000</td>\n",
       "      <td>44.300000</td>\n",
       "      <td>45.800000</td>\n",
       "      <td>43.600000</td>\n",
       "      <td>43.500000</td>\n",
       "      <td>41.700000</td>\n",
       "      <td>...</td>\n",
       "      <td>93.400000</td>\n",
       "      <td>93.500000</td>\n",
       "      <td>93.600000</td>\n",
       "      <td>93.700000</td>\n",
       "      <td>93.800000</td>\n",
       "      <td>94.000000</td>\n",
       "      <td>94.100000</td>\n",
       "      <td>94.200000</td>\n",
       "      <td>94.300000</td>\n",
       "      <td>94.400000</td>\n",
       "    </tr>\n",
       "  </tbody>\n",
       "</table>\n",
       "<p>8 rows × 301 columns</p>\n",
       "</div>"
      ],
      "text/plain": [
       "             1799        1800        1801        1802        1803        1804  \\\n",
       "count  186.000000  186.000000  186.000000  186.000000  186.000000  186.000000   \n",
       "mean    31.503763   31.463441   31.480108   31.385484   31.460753   31.586559   \n",
       "std      3.809510    3.801217    3.932344    3.955872    3.928388    4.003874   \n",
       "min     23.400000   23.400000   23.400000   19.600000   23.400000   23.400000   \n",
       "25%     29.025000   28.925000   28.900000   28.900000   28.925000   29.025000   \n",
       "50%     31.750000   31.650000   31.550000   31.500000   31.550000   31.650000   \n",
       "75%     33.875000   33.900000   33.875000   33.675000   33.775000   33.875000   \n",
       "max     42.900000   40.300000   44.400000   44.800000   42.800000   44.300000   \n",
       "\n",
       "             1805        1806        1807        1808  ...        2091  \\\n",
       "count  186.000000  186.000000  186.000000  186.000000  ...  186.000000   \n",
       "mean    31.644086   31.598387   31.385484   31.313441  ...   83.361828   \n",
       "std      4.102694    3.974506    4.080230    4.033412  ...    5.803782   \n",
       "min     23.400000   23.400000   12.500000   13.400000  ...   66.400000   \n",
       "25%     29.025000   29.025000   28.925000   28.825000  ...   79.650000   \n",
       "50%     31.750000   31.750000   31.550000   31.500000  ...   84.000000   \n",
       "75%     33.975000   33.975000   33.775000   33.675000  ...   87.775000   \n",
       "max     45.800000   43.600000   43.500000   41.700000  ...   93.400000   \n",
       "\n",
       "             2092        2093        2094        2095        2096        2097  \\\n",
       "count  186.000000  186.000000  186.000000  186.000000  186.000000  186.000000   \n",
       "mean    83.476344   83.600538   83.717742   83.838172   83.955376   84.076344   \n",
       "std      5.797854    5.788922    5.777904    5.770755    5.766333    5.756555   \n",
       "min     66.500000   66.700000   66.800000   66.900000   67.000000   67.100000   \n",
       "25%     79.750000   79.925000   80.025000   80.150000   80.325000   80.425000   \n",
       "50%     84.100000   84.250000   84.300000   84.500000   84.600000   84.700000   \n",
       "75%     87.875000   87.975000   88.075000   88.175000   88.300000   88.400000   \n",
       "max     93.500000   93.600000   93.700000   93.800000   94.000000   94.100000   \n",
       "\n",
       "             2098        2099        2100  \n",
       "count  186.000000  186.000000  186.000000  \n",
       "mean    84.193548   84.312903   84.430645  \n",
       "std      5.750616    5.743805    5.741341  \n",
       "min     67.200000   67.300000   67.400000  \n",
       "25%     80.525000   80.700000   80.800000  \n",
       "50%     84.800000   84.900000   85.000000  \n",
       "75%     88.500000   88.675000   88.775000  \n",
       "max     94.200000   94.300000   94.400000  \n",
       "\n",
       "[8 rows x 301 columns]"
      ]
     },
     "execution_count": 4,
     "metadata": {},
     "output_type": "execute_result"
    }
   ],
   "source": [
    "life_expectancy_years.describe()"
   ]
  },
  {
   "cell_type": "code",
   "execution_count": 5,
   "id": "f93c8b96",
   "metadata": {},
   "outputs": [
    {
     "data": {
      "text/plain": [
       "True"
      ]
     },
     "execution_count": 5,
     "metadata": {},
     "output_type": "execute_result"
    }
   ],
   "source": [
    "np.any(life_expectancy_years.isnull())"
   ]
  },
  {
   "cell_type": "code",
   "execution_count": 6,
   "id": "4b5b8cad",
   "metadata": {},
   "outputs": [
    {
     "data": {
      "text/plain": [
       "(195, 302)"
      ]
     },
     "execution_count": 6,
     "metadata": {},
     "output_type": "execute_result"
    }
   ],
   "source": [
    "life_expectancy_years.shape"
   ]
  },
  {
   "cell_type": "code",
   "execution_count": 7,
   "id": "71119442",
   "metadata": {},
   "outputs": [
    {
     "data": {
      "text/plain": [
       "country    0\n",
       "1799       9\n",
       "1800       9\n",
       "1801       9\n",
       "1802       9\n",
       "          ..\n",
       "2096       9\n",
       "2097       9\n",
       "2098       9\n",
       "2099       9\n",
       "2100       9\n",
       "Length: 302, dtype: int64"
      ]
     },
     "execution_count": 7,
     "metadata": {},
     "output_type": "execute_result"
    }
   ],
   "source": [
    "life_expectancy_years.isnull().sum()"
   ]
  },
  {
   "cell_type": "markdown",
   "id": "b9540c59",
   "metadata": {},
   "source": [
    "As there are only 9 missing values per column and 195 x 302 pieces of data, it is enough to replace each with the mean life expectancy. "
   ]
  },
  {
   "cell_type": "code",
   "execution_count": 8,
   "id": "de0972e8",
   "metadata": {},
   "outputs": [],
   "source": [
    "mean_life = life_expectancy_years.mean()\n",
    "life_expectancy_years = life_expectancy_years.fillna(mean_life)"
   ]
  },
  {
   "cell_type": "markdown",
   "id": "b394d983",
   "metadata": {},
   "source": [
    "Checking that the missing values have been replaced:"
   ]
  },
  {
   "cell_type": "code",
   "execution_count": 9,
   "id": "5dc0ae5b",
   "metadata": {},
   "outputs": [
    {
     "data": {
      "text/plain": [
       "country    0\n",
       "1799       0\n",
       "1800       0\n",
       "1801       0\n",
       "1802       0\n",
       "          ..\n",
       "2096       0\n",
       "2097       0\n",
       "2098       0\n",
       "2099       0\n",
       "2100       0\n",
       "Length: 302, dtype: int64"
      ]
     },
     "execution_count": 9,
     "metadata": {},
     "output_type": "execute_result"
    }
   ],
   "source": [
    "life_expectancy_years.isnull().sum()"
   ]
  },
  {
   "cell_type": "markdown",
   "id": "afa9ae4c",
   "metadata": {},
   "source": [
    "The next stage is very similar but applied to two other variables:"
   ]
  },
  {
   "cell_type": "code",
   "execution_count": 10,
   "id": "619d0f55",
   "metadata": {},
   "outputs": [
    {
     "data": {
      "text/html": [
       "<div>\n",
       "<style scoped>\n",
       "    .dataframe tbody tr th:only-of-type {\n",
       "        vertical-align: middle;\n",
       "    }\n",
       "\n",
       "    .dataframe tbody tr th {\n",
       "        vertical-align: top;\n",
       "    }\n",
       "\n",
       "    .dataframe thead th {\n",
       "        text-align: right;\n",
       "    }\n",
       "</style>\n",
       "<table border=\"1\" class=\"dataframe\">\n",
       "  <thead>\n",
       "    <tr style=\"text-align: right;\">\n",
       "      <th></th>\n",
       "      <th>country</th>\n",
       "      <th>1799</th>\n",
       "      <th>1800</th>\n",
       "      <th>1801</th>\n",
       "      <th>1802</th>\n",
       "      <th>1803</th>\n",
       "      <th>1804</th>\n",
       "      <th>1805</th>\n",
       "      <th>1806</th>\n",
       "      <th>1807</th>\n",
       "      <th>...</th>\n",
       "      <th>2091</th>\n",
       "      <th>2092</th>\n",
       "      <th>2093</th>\n",
       "      <th>2094</th>\n",
       "      <th>2095</th>\n",
       "      <th>2096</th>\n",
       "      <th>2097</th>\n",
       "      <th>2098</th>\n",
       "      <th>2099</th>\n",
       "      <th>2100</th>\n",
       "    </tr>\n",
       "  </thead>\n",
       "  <tbody>\n",
       "    <tr>\n",
       "      <th>0</th>\n",
       "      <td>Aruba</td>\n",
       "      <td>5.64</td>\n",
       "      <td>5.64</td>\n",
       "      <td>5.64</td>\n",
       "      <td>5.64</td>\n",
       "      <td>5.64</td>\n",
       "      <td>5.64</td>\n",
       "      <td>5.64</td>\n",
       "      <td>5.64</td>\n",
       "      <td>5.64</td>\n",
       "      <td>...</td>\n",
       "      <td>1.82</td>\n",
       "      <td>1.82</td>\n",
       "      <td>1.82</td>\n",
       "      <td>1.82</td>\n",
       "      <td>1.82</td>\n",
       "      <td>1.82</td>\n",
       "      <td>1.82</td>\n",
       "      <td>1.82</td>\n",
       "      <td>1.83</td>\n",
       "      <td>1.83</td>\n",
       "    </tr>\n",
       "    <tr>\n",
       "      <th>1</th>\n",
       "      <td>Afghanistan</td>\n",
       "      <td>7.00</td>\n",
       "      <td>7.00</td>\n",
       "      <td>7.00</td>\n",
       "      <td>7.00</td>\n",
       "      <td>7.00</td>\n",
       "      <td>7.00</td>\n",
       "      <td>7.00</td>\n",
       "      <td>7.00</td>\n",
       "      <td>7.00</td>\n",
       "      <td>...</td>\n",
       "      <td>1.74</td>\n",
       "      <td>1.74</td>\n",
       "      <td>1.74</td>\n",
       "      <td>1.74</td>\n",
       "      <td>1.74</td>\n",
       "      <td>1.74</td>\n",
       "      <td>1.74</td>\n",
       "      <td>1.74</td>\n",
       "      <td>1.74</td>\n",
       "      <td>1.74</td>\n",
       "    </tr>\n",
       "    <tr>\n",
       "      <th>2</th>\n",
       "      <td>Angola</td>\n",
       "      <td>6.93</td>\n",
       "      <td>6.93</td>\n",
       "      <td>6.93</td>\n",
       "      <td>6.93</td>\n",
       "      <td>6.93</td>\n",
       "      <td>6.93</td>\n",
       "      <td>6.93</td>\n",
       "      <td>6.94</td>\n",
       "      <td>6.94</td>\n",
       "      <td>...</td>\n",
       "      <td>2.54</td>\n",
       "      <td>2.52</td>\n",
       "      <td>2.50</td>\n",
       "      <td>2.48</td>\n",
       "      <td>2.47</td>\n",
       "      <td>2.45</td>\n",
       "      <td>2.43</td>\n",
       "      <td>2.42</td>\n",
       "      <td>2.40</td>\n",
       "      <td>2.40</td>\n",
       "    </tr>\n",
       "    <tr>\n",
       "      <th>3</th>\n",
       "      <td>Albania</td>\n",
       "      <td>4.60</td>\n",
       "      <td>4.60</td>\n",
       "      <td>4.60</td>\n",
       "      <td>4.60</td>\n",
       "      <td>4.60</td>\n",
       "      <td>4.60</td>\n",
       "      <td>4.60</td>\n",
       "      <td>4.60</td>\n",
       "      <td>4.60</td>\n",
       "      <td>...</td>\n",
       "      <td>1.78</td>\n",
       "      <td>1.78</td>\n",
       "      <td>1.78</td>\n",
       "      <td>1.79</td>\n",
       "      <td>1.79</td>\n",
       "      <td>1.79</td>\n",
       "      <td>1.79</td>\n",
       "      <td>1.79</td>\n",
       "      <td>1.79</td>\n",
       "      <td>1.79</td>\n",
       "    </tr>\n",
       "    <tr>\n",
       "      <th>4</th>\n",
       "      <td>Netherlands Antilles</td>\n",
       "      <td>5.80</td>\n",
       "      <td>5.80</td>\n",
       "      <td>5.80</td>\n",
       "      <td>5.80</td>\n",
       "      <td>5.80</td>\n",
       "      <td>5.80</td>\n",
       "      <td>5.80</td>\n",
       "      <td>5.80</td>\n",
       "      <td>5.80</td>\n",
       "      <td>...</td>\n",
       "      <td>2.00</td>\n",
       "      <td>2.00</td>\n",
       "      <td>2.01</td>\n",
       "      <td>2.01</td>\n",
       "      <td>2.01</td>\n",
       "      <td>2.01</td>\n",
       "      <td>2.01</td>\n",
       "      <td>2.02</td>\n",
       "      <td>2.02</td>\n",
       "      <td>2.02</td>\n",
       "    </tr>\n",
       "  </tbody>\n",
       "</table>\n",
       "<p>5 rows × 302 columns</p>\n",
       "</div>"
      ],
      "text/plain": [
       "                country  1799  1800  1801  1802  1803  1804  1805  1806  1807  \\\n",
       "0                 Aruba  5.64  5.64  5.64  5.64  5.64  5.64  5.64  5.64  5.64   \n",
       "1           Afghanistan  7.00  7.00  7.00  7.00  7.00  7.00  7.00  7.00  7.00   \n",
       "2                Angola  6.93  6.93  6.93  6.93  6.93  6.93  6.93  6.94  6.94   \n",
       "3               Albania  4.60  4.60  4.60  4.60  4.60  4.60  4.60  4.60  4.60   \n",
       "4  Netherlands Antilles  5.80  5.80  5.80  5.80  5.80  5.80  5.80  5.80  5.80   \n",
       "\n",
       "   ...  2091  2092  2093  2094  2095  2096  2097  2098  2099  2100  \n",
       "0  ...  1.82  1.82  1.82  1.82  1.82  1.82  1.82  1.82  1.83  1.83  \n",
       "1  ...  1.74  1.74  1.74  1.74  1.74  1.74  1.74  1.74  1.74  1.74  \n",
       "2  ...  2.54  2.52  2.50  2.48  2.47  2.45  2.43  2.42  2.40  2.40  \n",
       "3  ...  1.78  1.78  1.78  1.79  1.79  1.79  1.79  1.79  1.79  1.79  \n",
       "4  ...  2.00  2.00  2.01  2.01  2.01  2.01  2.01  2.02  2.02  2.02  \n",
       "\n",
       "[5 rows x 302 columns]"
      ]
     },
     "execution_count": 10,
     "metadata": {},
     "output_type": "execute_result"
    }
   ],
   "source": [
    "children_per_woman = pd.read_csv('children_per_woman_total_fertility.csv')\n",
    "children_per_woman.head()"
   ]
  },
  {
   "cell_type": "code",
   "execution_count": 11,
   "id": "5d94ecc5",
   "metadata": {},
   "outputs": [
    {
     "data": {
      "text/plain": [
       "True"
      ]
     },
     "execution_count": 11,
     "metadata": {},
     "output_type": "execute_result"
    }
   ],
   "source": [
    "np.any(children_per_woman.isnull().sum())"
   ]
  },
  {
   "cell_type": "code",
   "execution_count": 12,
   "id": "a8dd315e",
   "metadata": {},
   "outputs": [
    {
     "data": {
      "text/plain": [
       "False"
      ]
     },
     "execution_count": 12,
     "metadata": {},
     "output_type": "execute_result"
    }
   ],
   "source": [
    "mean_fertility = children_per_woman.mean()\n",
    "children_per_woman = children_per_woman.fillna(mean_fertility)\n",
    "np.any(children_per_woman.isnull().sum())"
   ]
  },
  {
   "cell_type": "code",
   "execution_count": 13,
   "id": "15c0b527",
   "metadata": {},
   "outputs": [
    {
     "data": {
      "text/html": [
       "<div>\n",
       "<style scoped>\n",
       "    .dataframe tbody tr th:only-of-type {\n",
       "        vertical-align: middle;\n",
       "    }\n",
       "\n",
       "    .dataframe tbody tr th {\n",
       "        vertical-align: top;\n",
       "    }\n",
       "\n",
       "    .dataframe thead th {\n",
       "        text-align: right;\n",
       "    }\n",
       "</style>\n",
       "<table border=\"1\" class=\"dataframe\">\n",
       "  <thead>\n",
       "    <tr style=\"text-align: right;\">\n",
       "      <th></th>\n",
       "      <th>country</th>\n",
       "      <th>1799</th>\n",
       "      <th>1800</th>\n",
       "      <th>1801</th>\n",
       "      <th>1802</th>\n",
       "      <th>1803</th>\n",
       "      <th>1804</th>\n",
       "      <th>1805</th>\n",
       "      <th>1806</th>\n",
       "      <th>1807</th>\n",
       "      <th>...</th>\n",
       "      <th>2041</th>\n",
       "      <th>2042</th>\n",
       "      <th>2043</th>\n",
       "      <th>2044</th>\n",
       "      <th>2045</th>\n",
       "      <th>2046</th>\n",
       "      <th>2047</th>\n",
       "      <th>2048</th>\n",
       "      <th>2049</th>\n",
       "      <th>2050</th>\n",
       "    </tr>\n",
       "  </thead>\n",
       "  <tbody>\n",
       "    <tr>\n",
       "      <th>0</th>\n",
       "      <td>Afghanistan</td>\n",
       "      <td>674</td>\n",
       "      <td>674</td>\n",
       "      <td>674</td>\n",
       "      <td>674</td>\n",
       "      <td>674</td>\n",
       "      <td>674</td>\n",
       "      <td>674</td>\n",
       "      <td>674</td>\n",
       "      <td>674</td>\n",
       "      <td>...</td>\n",
       "      <td>2880</td>\n",
       "      <td>2940</td>\n",
       "      <td>3000</td>\n",
       "      <td>3070</td>\n",
       "      <td>3130</td>\n",
       "      <td>3200</td>\n",
       "      <td>3270</td>\n",
       "      <td>3340</td>\n",
       "      <td>3410</td>\n",
       "      <td>3480</td>\n",
       "    </tr>\n",
       "    <tr>\n",
       "      <th>1</th>\n",
       "      <td>Angola</td>\n",
       "      <td>691</td>\n",
       "      <td>693</td>\n",
       "      <td>697</td>\n",
       "      <td>700</td>\n",
       "      <td>702</td>\n",
       "      <td>705</td>\n",
       "      <td>709</td>\n",
       "      <td>712</td>\n",
       "      <td>716</td>\n",
       "      <td>...</td>\n",
       "      <td>8040</td>\n",
       "      <td>8220</td>\n",
       "      <td>8390</td>\n",
       "      <td>8570</td>\n",
       "      <td>8750</td>\n",
       "      <td>8940</td>\n",
       "      <td>9120</td>\n",
       "      <td>9320</td>\n",
       "      <td>9520</td>\n",
       "      <td>9720</td>\n",
       "    </tr>\n",
       "    <tr>\n",
       "      <th>2</th>\n",
       "      <td>Albania</td>\n",
       "      <td>746</td>\n",
       "      <td>746</td>\n",
       "      <td>746</td>\n",
       "      <td>746</td>\n",
       "      <td>746</td>\n",
       "      <td>747</td>\n",
       "      <td>747</td>\n",
       "      <td>747</td>\n",
       "      <td>747</td>\n",
       "      <td>...</td>\n",
       "      <td>24.5k</td>\n",
       "      <td>25k</td>\n",
       "      <td>25.5k</td>\n",
       "      <td>26.1k</td>\n",
       "      <td>26.6k</td>\n",
       "      <td>27.2k</td>\n",
       "      <td>27.8k</td>\n",
       "      <td>28.3k</td>\n",
       "      <td>28.9k</td>\n",
       "      <td>29.6k</td>\n",
       "    </tr>\n",
       "    <tr>\n",
       "      <th>3</th>\n",
       "      <td>Andorra</td>\n",
       "      <td>1340</td>\n",
       "      <td>1340</td>\n",
       "      <td>1340</td>\n",
       "      <td>1350</td>\n",
       "      <td>1350</td>\n",
       "      <td>1350</td>\n",
       "      <td>1350</td>\n",
       "      <td>1360</td>\n",
       "      <td>1360</td>\n",
       "      <td>...</td>\n",
       "      <td>108k</td>\n",
       "      <td>111k</td>\n",
       "      <td>113k</td>\n",
       "      <td>116k</td>\n",
       "      <td>118k</td>\n",
       "      <td>121k</td>\n",
       "      <td>123k</td>\n",
       "      <td>126k</td>\n",
       "      <td>128k</td>\n",
       "      <td>131k</td>\n",
       "    </tr>\n",
       "    <tr>\n",
       "      <th>4</th>\n",
       "      <td>United Arab Emirates</td>\n",
       "      <td>1120</td>\n",
       "      <td>1120</td>\n",
       "      <td>1120</td>\n",
       "      <td>1130</td>\n",
       "      <td>1130</td>\n",
       "      <td>1140</td>\n",
       "      <td>1140</td>\n",
       "      <td>1150</td>\n",
       "      <td>1150</td>\n",
       "      <td>...</td>\n",
       "      <td>74.5k</td>\n",
       "      <td>76.1k</td>\n",
       "      <td>77.7k</td>\n",
       "      <td>79.3k</td>\n",
       "      <td>81k</td>\n",
       "      <td>82.7k</td>\n",
       "      <td>84.5k</td>\n",
       "      <td>86.3k</td>\n",
       "      <td>88.1k</td>\n",
       "      <td>90k</td>\n",
       "    </tr>\n",
       "  </tbody>\n",
       "</table>\n",
       "<p>5 rows × 252 columns</p>\n",
       "</div>"
      ],
      "text/plain": [
       "                country  1799  1800  1801  1802  1803  1804  1805  1806  1807  \\\n",
       "0           Afghanistan   674   674   674   674   674   674   674   674   674   \n",
       "1                Angola   691   693   697   700   702   705   709   712   716   \n",
       "2               Albania   746   746   746   746   746   747   747   747   747   \n",
       "3               Andorra  1340  1340  1340  1350  1350  1350  1350  1360  1360   \n",
       "4  United Arab Emirates  1120  1120  1120  1130  1130  1140  1140  1150  1150   \n",
       "\n",
       "   ...   2041   2042   2043   2044   2045   2046   2047   2048   2049   2050  \n",
       "0  ...   2880   2940   3000   3070   3130   3200   3270   3340   3410   3480  \n",
       "1  ...   8040   8220   8390   8570   8750   8940   9120   9320   9520   9720  \n",
       "2  ...  24.5k    25k  25.5k  26.1k  26.6k  27.2k  27.8k  28.3k  28.9k  29.6k  \n",
       "3  ...   108k   111k   113k   116k   118k   121k   123k   126k   128k   131k  \n",
       "4  ...  74.5k  76.1k  77.7k  79.3k    81k  82.7k  84.5k  86.3k  88.1k    90k  \n",
       "\n",
       "[5 rows x 252 columns]"
      ]
     },
     "execution_count": 13,
     "metadata": {},
     "output_type": "execute_result"
    }
   ],
   "source": [
    "income_gdp = pd.read_csv('income_per_person_gdppercapita_ppp_inflation_adjusted.csv')\n",
    "income_gdp.head()"
   ]
  },
  {
   "cell_type": "markdown",
   "id": "55bd8351",
   "metadata": {},
   "source": [
    "Checking for duplicates and regathering info so can make a decision about how to merge the files:"
   ]
  },
  {
   "cell_type": "code",
   "execution_count": 14,
   "id": "beff6514",
   "metadata": {},
   "outputs": [
    {
     "data": {
      "text/plain": [
       "False"
      ]
     },
     "execution_count": 14,
     "metadata": {},
     "output_type": "execute_result"
    }
   ],
   "source": [
    "np.any(income_gdp.isnull().sum())"
   ]
  },
  {
   "cell_type": "code",
   "execution_count": 15,
   "id": "d27aee57",
   "metadata": {},
   "outputs": [
    {
     "data": {
      "text/plain": [
       "False"
      ]
     },
     "execution_count": 15,
     "metadata": {},
     "output_type": "execute_result"
    }
   ],
   "source": [
    "np.any(income_gdp.duplicated())"
   ]
  },
  {
   "cell_type": "code",
   "execution_count": 16,
   "id": "c125c4e2",
   "metadata": {},
   "outputs": [
    {
     "data": {
      "text/plain": [
       "False"
      ]
     },
     "execution_count": 16,
     "metadata": {},
     "output_type": "execute_result"
    }
   ],
   "source": [
    "np.any(children_per_woman.duplicated())"
   ]
  },
  {
   "cell_type": "code",
   "execution_count": 17,
   "id": "4c8070e5",
   "metadata": {},
   "outputs": [
    {
     "data": {
      "text/plain": [
       "False"
      ]
     },
     "execution_count": 17,
     "metadata": {},
     "output_type": "execute_result"
    }
   ],
   "source": [
    "np.any(life_expectancy_years.duplicated())"
   ]
  },
  {
   "cell_type": "markdown",
   "id": "93fb0a1b",
   "metadata": {},
   "source": [
    "There are no duplicated rows!\n",
    "\n",
    "Now it is time to gather information again and work out how to merge the files."
   ]
  },
  {
   "cell_type": "code",
   "execution_count": 18,
   "id": "8340c8fb",
   "metadata": {},
   "outputs": [
    {
     "name": "stdout",
     "output_type": "stream",
     "text": [
      "<class 'pandas.core.frame.DataFrame'>\n",
      "RangeIndex: 195 entries, 0 to 194\n",
      "Columns: 252 entries, country to 2050\n",
      "dtypes: int64(103), object(149)\n",
      "memory usage: 384.0+ KB\n"
     ]
    }
   ],
   "source": [
    "income_gdp.info()"
   ]
  },
  {
   "cell_type": "code",
   "execution_count": 19,
   "id": "b2454427",
   "metadata": {},
   "outputs": [
    {
     "name": "stdout",
     "output_type": "stream",
     "text": [
      "<class 'pandas.core.frame.DataFrame'>\n",
      "RangeIndex: 195 entries, 0 to 194\n",
      "Columns: 302 entries, country to 2100\n",
      "dtypes: float64(301), object(1)\n",
      "memory usage: 460.2+ KB\n"
     ]
    }
   ],
   "source": [
    "life_expectancy_years.info()"
   ]
  },
  {
   "cell_type": "code",
   "execution_count": 20,
   "id": "7c494e6f",
   "metadata": {},
   "outputs": [
    {
     "name": "stdout",
     "output_type": "stream",
     "text": [
      "<class 'pandas.core.frame.DataFrame'>\n",
      "RangeIndex: 202 entries, 0 to 201\n",
      "Columns: 302 entries, country to 2100\n",
      "dtypes: float64(301), object(1)\n",
      "memory usage: 476.7+ KB\n"
     ]
    }
   ],
   "source": [
    "children_per_woman.info()"
   ]
  },
  {
   "cell_type": "markdown",
   "id": "002129da",
   "metadata": {},
   "source": [
    "The columns do not appear to match. Let us look in more detail:"
   ]
  },
  {
   "cell_type": "code",
   "execution_count": 21,
   "id": "9c82b316",
   "metadata": {},
   "outputs": [
    {
     "data": {
      "text/plain": [
       "Index(['country', '1799', '1800', '1801', '1802', '1803', '1804', '1805',\n",
       "       '1806', '1807',\n",
       "       ...\n",
       "       '2091', '2092', '2093', '2094', '2095', '2096', '2097', '2098', '2099',\n",
       "       '2100'],\n",
       "      dtype='object', length=302)"
      ]
     },
     "execution_count": 21,
     "metadata": {},
     "output_type": "execute_result"
    }
   ],
   "source": [
    "children_per_woman.columns"
   ]
  },
  {
   "cell_type": "code",
   "execution_count": 22,
   "id": "2de696b8",
   "metadata": {},
   "outputs": [
    {
     "data": {
      "text/plain": [
       "Index(['country', '1799', '1800', '1801', '1802', '1803', '1804', '1805',\n",
       "       '1806', '1807',\n",
       "       ...\n",
       "       '2041', '2042', '2043', '2044', '2045', '2046', '2047', '2048', '2049',\n",
       "       '2050'],\n",
       "      dtype='object', length=252)"
      ]
     },
     "execution_count": 22,
     "metadata": {},
     "output_type": "execute_result"
    }
   ],
   "source": [
    "income_gdp.columns"
   ]
  },
  {
   "cell_type": "code",
   "execution_count": 23,
   "id": "0ff3c5a3",
   "metadata": {},
   "outputs": [
    {
     "data": {
      "text/plain": [
       "Index(['country', '1799', '1800', '1801', '1802', '1803', '1804', '1805',\n",
       "       '1806', '1807',\n",
       "       ...\n",
       "       '2091', '2092', '2093', '2094', '2095', '2096', '2097', '2098', '2099',\n",
       "       '2100'],\n",
       "      dtype='object', length=302)"
      ]
     },
     "execution_count": 23,
     "metadata": {},
     "output_type": "execute_result"
    }
   ],
   "source": [
    "life_expectancy_years.columns"
   ]
  },
  {
   "cell_type": "markdown",
   "id": "7aa59a80",
   "metadata": {},
   "source": [
    "The years for which all three datasets overlap are the years 1799-2050. Therefore the datasets will be joined on those years.\n",
    "\n",
    "Cutting the last 50 years from two of them does the job."
   ]
  },
  {
   "cell_type": "code",
   "execution_count": 24,
   "id": "b827051c",
   "metadata": {},
   "outputs": [],
   "source": [
    "life_expectancy_years = life_expectancy_years.drop(life_expectancy_years.loc[:, '2051':].columns, axis=1)"
   ]
  },
  {
   "cell_type": "code",
   "execution_count": 25,
   "id": "43dcca81",
   "metadata": {},
   "outputs": [],
   "source": [
    "children_per_woman = children_per_woman.drop(children_per_woman.loc[:, '2051':].columns, axis=1)"
   ]
  },
  {
   "cell_type": "markdown",
   "id": "0f2b4ba9",
   "metadata": {},
   "source": [
    "Checking the right columns have been dropped:"
   ]
  },
  {
   "cell_type": "code",
   "execution_count": 26,
   "id": "29c22856",
   "metadata": {},
   "outputs": [
    {
     "data": {
      "text/html": [
       "<div>\n",
       "<style scoped>\n",
       "    .dataframe tbody tr th:only-of-type {\n",
       "        vertical-align: middle;\n",
       "    }\n",
       "\n",
       "    .dataframe tbody tr th {\n",
       "        vertical-align: top;\n",
       "    }\n",
       "\n",
       "    .dataframe thead th {\n",
       "        text-align: right;\n",
       "    }\n",
       "</style>\n",
       "<table border=\"1\" class=\"dataframe\">\n",
       "  <thead>\n",
       "    <tr style=\"text-align: right;\">\n",
       "      <th></th>\n",
       "      <th>country</th>\n",
       "      <th>1799</th>\n",
       "      <th>1800</th>\n",
       "      <th>1801</th>\n",
       "      <th>1802</th>\n",
       "      <th>1803</th>\n",
       "      <th>1804</th>\n",
       "      <th>1805</th>\n",
       "      <th>1806</th>\n",
       "      <th>1807</th>\n",
       "      <th>...</th>\n",
       "      <th>2041</th>\n",
       "      <th>2042</th>\n",
       "      <th>2043</th>\n",
       "      <th>2044</th>\n",
       "      <th>2045</th>\n",
       "      <th>2046</th>\n",
       "      <th>2047</th>\n",
       "      <th>2048</th>\n",
       "      <th>2049</th>\n",
       "      <th>2050</th>\n",
       "    </tr>\n",
       "  </thead>\n",
       "  <tbody>\n",
       "    <tr>\n",
       "      <th>0</th>\n",
       "      <td>Aruba</td>\n",
       "      <td>5.64</td>\n",
       "      <td>5.64</td>\n",
       "      <td>5.64</td>\n",
       "      <td>5.64</td>\n",
       "      <td>5.64</td>\n",
       "      <td>5.64</td>\n",
       "      <td>5.64</td>\n",
       "      <td>5.64</td>\n",
       "      <td>5.64</td>\n",
       "      <td>...</td>\n",
       "      <td>1.79</td>\n",
       "      <td>1.79</td>\n",
       "      <td>1.79</td>\n",
       "      <td>1.79</td>\n",
       "      <td>1.79</td>\n",
       "      <td>1.80</td>\n",
       "      <td>1.80</td>\n",
       "      <td>1.80</td>\n",
       "      <td>1.80</td>\n",
       "      <td>1.80</td>\n",
       "    </tr>\n",
       "    <tr>\n",
       "      <th>1</th>\n",
       "      <td>Afghanistan</td>\n",
       "      <td>7.00</td>\n",
       "      <td>7.00</td>\n",
       "      <td>7.00</td>\n",
       "      <td>7.00</td>\n",
       "      <td>7.00</td>\n",
       "      <td>7.00</td>\n",
       "      <td>7.00</td>\n",
       "      <td>7.00</td>\n",
       "      <td>7.00</td>\n",
       "      <td>...</td>\n",
       "      <td>2.41</td>\n",
       "      <td>2.37</td>\n",
       "      <td>2.34</td>\n",
       "      <td>2.30</td>\n",
       "      <td>2.27</td>\n",
       "      <td>2.24</td>\n",
       "      <td>2.21</td>\n",
       "      <td>2.18</td>\n",
       "      <td>2.15</td>\n",
       "      <td>2.13</td>\n",
       "    </tr>\n",
       "    <tr>\n",
       "      <th>2</th>\n",
       "      <td>Angola</td>\n",
       "      <td>6.93</td>\n",
       "      <td>6.93</td>\n",
       "      <td>6.93</td>\n",
       "      <td>6.93</td>\n",
       "      <td>6.93</td>\n",
       "      <td>6.93</td>\n",
       "      <td>6.93</td>\n",
       "      <td>6.94</td>\n",
       "      <td>6.94</td>\n",
       "      <td>...</td>\n",
       "      <td>4.12</td>\n",
       "      <td>4.07</td>\n",
       "      <td>4.02</td>\n",
       "      <td>3.97</td>\n",
       "      <td>3.92</td>\n",
       "      <td>3.87</td>\n",
       "      <td>3.82</td>\n",
       "      <td>3.77</td>\n",
       "      <td>3.73</td>\n",
       "      <td>3.69</td>\n",
       "    </tr>\n",
       "    <tr>\n",
       "      <th>3</th>\n",
       "      <td>Albania</td>\n",
       "      <td>4.60</td>\n",
       "      <td>4.60</td>\n",
       "      <td>4.60</td>\n",
       "      <td>4.60</td>\n",
       "      <td>4.60</td>\n",
       "      <td>4.60</td>\n",
       "      <td>4.60</td>\n",
       "      <td>4.60</td>\n",
       "      <td>4.60</td>\n",
       "      <td>...</td>\n",
       "      <td>1.70</td>\n",
       "      <td>1.70</td>\n",
       "      <td>1.71</td>\n",
       "      <td>1.71</td>\n",
       "      <td>1.71</td>\n",
       "      <td>1.71</td>\n",
       "      <td>1.71</td>\n",
       "      <td>1.71</td>\n",
       "      <td>1.71</td>\n",
       "      <td>1.72</td>\n",
       "    </tr>\n",
       "    <tr>\n",
       "      <th>4</th>\n",
       "      <td>Netherlands Antilles</td>\n",
       "      <td>5.80</td>\n",
       "      <td>5.80</td>\n",
       "      <td>5.80</td>\n",
       "      <td>5.80</td>\n",
       "      <td>5.80</td>\n",
       "      <td>5.80</td>\n",
       "      <td>5.80</td>\n",
       "      <td>5.80</td>\n",
       "      <td>5.80</td>\n",
       "      <td>...</td>\n",
       "      <td>1.83</td>\n",
       "      <td>1.83</td>\n",
       "      <td>1.84</td>\n",
       "      <td>1.84</td>\n",
       "      <td>1.85</td>\n",
       "      <td>1.85</td>\n",
       "      <td>1.85</td>\n",
       "      <td>1.86</td>\n",
       "      <td>1.86</td>\n",
       "      <td>1.87</td>\n",
       "    </tr>\n",
       "  </tbody>\n",
       "</table>\n",
       "<p>5 rows × 252 columns</p>\n",
       "</div>"
      ],
      "text/plain": [
       "                country  1799  1800  1801  1802  1803  1804  1805  1806  1807  \\\n",
       "0                 Aruba  5.64  5.64  5.64  5.64  5.64  5.64  5.64  5.64  5.64   \n",
       "1           Afghanistan  7.00  7.00  7.00  7.00  7.00  7.00  7.00  7.00  7.00   \n",
       "2                Angola  6.93  6.93  6.93  6.93  6.93  6.93  6.93  6.94  6.94   \n",
       "3               Albania  4.60  4.60  4.60  4.60  4.60  4.60  4.60  4.60  4.60   \n",
       "4  Netherlands Antilles  5.80  5.80  5.80  5.80  5.80  5.80  5.80  5.80  5.80   \n",
       "\n",
       "   ...  2041  2042  2043  2044  2045  2046  2047  2048  2049  2050  \n",
       "0  ...  1.79  1.79  1.79  1.79  1.79  1.80  1.80  1.80  1.80  1.80  \n",
       "1  ...  2.41  2.37  2.34  2.30  2.27  2.24  2.21  2.18  2.15  2.13  \n",
       "2  ...  4.12  4.07  4.02  3.97  3.92  3.87  3.82  3.77  3.73  3.69  \n",
       "3  ...  1.70  1.70  1.71  1.71  1.71  1.71  1.71  1.71  1.71  1.72  \n",
       "4  ...  1.83  1.83  1.84  1.84  1.85  1.85  1.85  1.86  1.86  1.87  \n",
       "\n",
       "[5 rows x 252 columns]"
      ]
     },
     "execution_count": 26,
     "metadata": {},
     "output_type": "execute_result"
    }
   ],
   "source": [
    "children_per_woman.head()"
   ]
  },
  {
   "cell_type": "code",
   "execution_count": 27,
   "id": "c6d20188",
   "metadata": {},
   "outputs": [
    {
     "data": {
      "text/html": [
       "<div>\n",
       "<style scoped>\n",
       "    .dataframe tbody tr th:only-of-type {\n",
       "        vertical-align: middle;\n",
       "    }\n",
       "\n",
       "    .dataframe tbody tr th {\n",
       "        vertical-align: top;\n",
       "    }\n",
       "\n",
       "    .dataframe thead th {\n",
       "        text-align: right;\n",
       "    }\n",
       "</style>\n",
       "<table border=\"1\" class=\"dataframe\">\n",
       "  <thead>\n",
       "    <tr style=\"text-align: right;\">\n",
       "      <th></th>\n",
       "      <th>country</th>\n",
       "      <th>1799</th>\n",
       "      <th>1800</th>\n",
       "      <th>1801</th>\n",
       "      <th>1802</th>\n",
       "      <th>1803</th>\n",
       "      <th>1804</th>\n",
       "      <th>1805</th>\n",
       "      <th>1806</th>\n",
       "      <th>1807</th>\n",
       "      <th>...</th>\n",
       "      <th>2041</th>\n",
       "      <th>2042</th>\n",
       "      <th>2043</th>\n",
       "      <th>2044</th>\n",
       "      <th>2045</th>\n",
       "      <th>2046</th>\n",
       "      <th>2047</th>\n",
       "      <th>2048</th>\n",
       "      <th>2049</th>\n",
       "      <th>2050</th>\n",
       "    </tr>\n",
       "  </thead>\n",
       "  <tbody>\n",
       "    <tr>\n",
       "      <th>0</th>\n",
       "      <td>Afghanistan</td>\n",
       "      <td>28.200000</td>\n",
       "      <td>28.200000</td>\n",
       "      <td>28.200000</td>\n",
       "      <td>28.200000</td>\n",
       "      <td>28.200000</td>\n",
       "      <td>28.200000</td>\n",
       "      <td>28.100000</td>\n",
       "      <td>28.100000</td>\n",
       "      <td>28.100000</td>\n",
       "      <td>...</td>\n",
       "      <td>68.600000</td>\n",
       "      <td>68.800000</td>\n",
       "      <td>68.900000</td>\n",
       "      <td>69.100000</td>\n",
       "      <td>69.200000</td>\n",
       "      <td>69.400000</td>\n",
       "      <td>69.500000</td>\n",
       "      <td>69.700000</td>\n",
       "      <td>69.800000</td>\n",
       "      <td>70.000000</td>\n",
       "    </tr>\n",
       "    <tr>\n",
       "      <th>1</th>\n",
       "      <td>Angola</td>\n",
       "      <td>27.000000</td>\n",
       "      <td>27.000000</td>\n",
       "      <td>27.000000</td>\n",
       "      <td>27.000000</td>\n",
       "      <td>27.000000</td>\n",
       "      <td>27.000000</td>\n",
       "      <td>27.000000</td>\n",
       "      <td>27.000000</td>\n",
       "      <td>27.000000</td>\n",
       "      <td>...</td>\n",
       "      <td>71.400000</td>\n",
       "      <td>71.600000</td>\n",
       "      <td>71.800000</td>\n",
       "      <td>72.000000</td>\n",
       "      <td>72.200000</td>\n",
       "      <td>72.400000</td>\n",
       "      <td>72.500000</td>\n",
       "      <td>72.700000</td>\n",
       "      <td>72.900000</td>\n",
       "      <td>73.100000</td>\n",
       "    </tr>\n",
       "    <tr>\n",
       "      <th>2</th>\n",
       "      <td>Albania</td>\n",
       "      <td>35.400000</td>\n",
       "      <td>35.400000</td>\n",
       "      <td>35.400000</td>\n",
       "      <td>35.400000</td>\n",
       "      <td>35.400000</td>\n",
       "      <td>35.400000</td>\n",
       "      <td>35.400000</td>\n",
       "      <td>35.400000</td>\n",
       "      <td>35.400000</td>\n",
       "      <td>...</td>\n",
       "      <td>81.600000</td>\n",
       "      <td>81.800000</td>\n",
       "      <td>81.900000</td>\n",
       "      <td>82.000000</td>\n",
       "      <td>82.200000</td>\n",
       "      <td>82.300000</td>\n",
       "      <td>82.400000</td>\n",
       "      <td>82.600000</td>\n",
       "      <td>82.700000</td>\n",
       "      <td>82.800000</td>\n",
       "    </tr>\n",
       "    <tr>\n",
       "      <th>3</th>\n",
       "      <td>Andorra</td>\n",
       "      <td>31.503763</td>\n",
       "      <td>31.463441</td>\n",
       "      <td>31.480108</td>\n",
       "      <td>31.385484</td>\n",
       "      <td>31.460753</td>\n",
       "      <td>31.586559</td>\n",
       "      <td>31.644086</td>\n",
       "      <td>31.598387</td>\n",
       "      <td>31.385484</td>\n",
       "      <td>...</td>\n",
       "      <td>76.743011</td>\n",
       "      <td>76.901613</td>\n",
       "      <td>77.045699</td>\n",
       "      <td>77.201075</td>\n",
       "      <td>77.347312</td>\n",
       "      <td>77.497312</td>\n",
       "      <td>77.643011</td>\n",
       "      <td>77.795161</td>\n",
       "      <td>77.932796</td>\n",
       "      <td>78.075269</td>\n",
       "    </tr>\n",
       "    <tr>\n",
       "      <th>4</th>\n",
       "      <td>United Arab Emirates</td>\n",
       "      <td>30.700000</td>\n",
       "      <td>30.700000</td>\n",
       "      <td>30.700000</td>\n",
       "      <td>30.700000</td>\n",
       "      <td>30.700000</td>\n",
       "      <td>30.700000</td>\n",
       "      <td>30.700000</td>\n",
       "      <td>30.700000</td>\n",
       "      <td>30.700000</td>\n",
       "      <td>...</td>\n",
       "      <td>76.800000</td>\n",
       "      <td>77.000000</td>\n",
       "      <td>77.100000</td>\n",
       "      <td>77.200000</td>\n",
       "      <td>77.300000</td>\n",
       "      <td>77.500000</td>\n",
       "      <td>77.600000</td>\n",
       "      <td>77.700000</td>\n",
       "      <td>77.900000</td>\n",
       "      <td>78.000000</td>\n",
       "    </tr>\n",
       "  </tbody>\n",
       "</table>\n",
       "<p>5 rows × 252 columns</p>\n",
       "</div>"
      ],
      "text/plain": [
       "                country       1799       1800       1801       1802  \\\n",
       "0           Afghanistan  28.200000  28.200000  28.200000  28.200000   \n",
       "1                Angola  27.000000  27.000000  27.000000  27.000000   \n",
       "2               Albania  35.400000  35.400000  35.400000  35.400000   \n",
       "3               Andorra  31.503763  31.463441  31.480108  31.385484   \n",
       "4  United Arab Emirates  30.700000  30.700000  30.700000  30.700000   \n",
       "\n",
       "        1803       1804       1805       1806       1807  ...       2041  \\\n",
       "0  28.200000  28.200000  28.100000  28.100000  28.100000  ...  68.600000   \n",
       "1  27.000000  27.000000  27.000000  27.000000  27.000000  ...  71.400000   \n",
       "2  35.400000  35.400000  35.400000  35.400000  35.400000  ...  81.600000   \n",
       "3  31.460753  31.586559  31.644086  31.598387  31.385484  ...  76.743011   \n",
       "4  30.700000  30.700000  30.700000  30.700000  30.700000  ...  76.800000   \n",
       "\n",
       "        2042       2043       2044       2045       2046       2047  \\\n",
       "0  68.800000  68.900000  69.100000  69.200000  69.400000  69.500000   \n",
       "1  71.600000  71.800000  72.000000  72.200000  72.400000  72.500000   \n",
       "2  81.800000  81.900000  82.000000  82.200000  82.300000  82.400000   \n",
       "3  76.901613  77.045699  77.201075  77.347312  77.497312  77.643011   \n",
       "4  77.000000  77.100000  77.200000  77.300000  77.500000  77.600000   \n",
       "\n",
       "        2048       2049       2050  \n",
       "0  69.700000  69.800000  70.000000  \n",
       "1  72.700000  72.900000  73.100000  \n",
       "2  82.600000  82.700000  82.800000  \n",
       "3  77.795161  77.932796  78.075269  \n",
       "4  77.700000  77.900000  78.000000  \n",
       "\n",
       "[5 rows x 252 columns]"
      ]
     },
     "execution_count": 27,
     "metadata": {},
     "output_type": "execute_result"
    }
   ],
   "source": [
    "life_expectancy_years.head()"
   ]
  },
  {
   "cell_type": "markdown",
   "id": "dc5ccfa2",
   "metadata": {},
   "source": [
    "Now exploring the data!\n",
    "\n",
    "Initially, it seemed that merging the datasets might be a good idea. However, this will only create a very large dataset in three sections. It seems better to explore each dataset individually first and then compare them afterwards.\n",
    "\n",
    "Beginning with life_expectancy_years, we can begin to visualize the dataset for various countries.\n",
    "\n",
    "To make the visualization easier, the mean value for each year will be plotted against time (in years) in order to see any basic trends:"
   ]
  },
  {
   "cell_type": "code",
   "execution_count": 28,
   "id": "12e313fe",
   "metadata": {},
   "outputs": [],
   "source": [
    "life_expectancy_mean = life_expectancy_years.mean()\n",
    "years = life_expectancy_years.columns"
   ]
  },
  {
   "cell_type": "markdown",
   "id": "a69cb9bd",
   "metadata": {},
   "source": [
    "Dropping the first column value ('country') as this is not a year!"
   ]
  },
  {
   "cell_type": "code",
   "execution_count": 29,
   "id": "527d6df7",
   "metadata": {},
   "outputs": [],
   "source": [
    "years = years[1:]"
   ]
  },
  {
   "cell_type": "code",
   "execution_count": 30,
   "id": "4fd778ee",
   "metadata": {},
   "outputs": [
    {
     "data": {
      "text/plain": [
       "Index(['1799', '1800', '1801', '1802', '1803', '1804', '1805', '1806', '1807',\n",
       "       '1808',\n",
       "       ...\n",
       "       '2041', '2042', '2043', '2044', '2045', '2046', '2047', '2048', '2049',\n",
       "       '2050'],\n",
       "      dtype='object', length=251)"
      ]
     },
     "execution_count": 30,
     "metadata": {},
     "output_type": "execute_result"
    }
   ],
   "source": [
    "years"
   ]
  },
  {
   "cell_type": "markdown",
   "id": "6f8353a1",
   "metadata": {},
   "source": [
    "Creating a plot function which will speed up the coding:"
   ]
  },
  {
   "cell_type": "code",
   "execution_count": 31,
   "id": "63f2aa4d",
   "metadata": {},
   "outputs": [],
   "source": [
    "def plot(xlabel, ylabel, title):\n",
    "    plt.xlabel(xlabel)\n",
    "    plt.ylabel(ylabel)\n",
    "    plt.title(title)\n",
    "    plt.legend()\n",
    "    plt.show()"
   ]
  },
  {
   "cell_type": "markdown",
   "id": "ff324e65",
   "metadata": {},
   "source": [
    "Now ready to plot!"
   ]
  },
  {
   "cell_type": "markdown",
   "id": "e81bd96c",
   "metadata": {},
   "source": [
    "The years will not show well if they are plotted as strings because they will be treated as a discrete variable. \n",
    "\n",
    "This issue can be rectified by converting the years to floats:"
   ]
  },
  {
   "cell_type": "code",
   "execution_count": 32,
   "id": "bd45671e",
   "metadata": {},
   "outputs": [],
   "source": [
    "years = years.astype(float)"
   ]
  },
  {
   "cell_type": "markdown",
   "id": "a8da3c43",
   "metadata": {},
   "source": [
    "The first type of visualization to be performed is a 1-D visualization of each of the three variables to be investigated:\n",
    "\n",
    "1. Mean Global Life Expectancy\n",
    "2. Mean Fertility Rate\n",
    "3. Mean Income Per Capita (Adjusted for Inflation)\n",
    "\n",
    "These were visualized as histograms so that the distributions (over the entire time period the data was taken!) can be observed. This will give an idea of what counts as a very high, very low or typical value for each variable over the years since 1799."
   ]
  },
  {
   "cell_type": "code",
   "execution_count": 89,
   "id": "a1da6111",
   "metadata": {},
   "outputs": [
    {
     "data": {
      "text/plain": [
       "<AxesSubplot:title={'center':'Distribution of Life Expectancy (Years) since 1799'}, ylabel='Frequency'>"
      ]
     },
     "execution_count": 89,
     "metadata": {},
     "output_type": "execute_result"
    },
    {
     "data": {
      "image/png": "[encoded data removed]",
      "text/plain": [
       "<Figure size 432x288 with 1 Axes>"
      ]
     },
     "metadata": {
      "needs_background": "light"
     },
     "output_type": "display_data"
    }
   ],
   "source": [
    "life_expectancy_mean.plot.hist(title='Distribution of Life Expectancy (Years) since 1799',xlabel='Life Expectancy',ylabel='Frequency Density')"
   ]
  },
  {
   "cell_type": "markdown",
   "id": "9a5d367d",
   "metadata": {},
   "source": [
    "Observations:\n",
    "\n",
    "1. The life expectancies cluster around the bin 30-35 years old. They also appear to cluster in the region 65-78 years old. This is interesting behaviour as there may be no middle ground. \n",
    "2. Furthermore, it indicates that standard deviation and mean are not good statistics to represent this data."
   ]
  },
  {
   "cell_type": "code",
   "execution_count": 88,
   "id": "4783a72a",
   "metadata": {},
   "outputs": [
    {
     "data": {
      "text/plain": [
       "<AxesSubplot:title={'center':'Distribution of Fertility Rate since 1799'}, ylabel='Frequency'>"
      ]
     },
     "execution_count": 88,
     "metadata": {},
     "output_type": "execute_result"
    },
    {
     "data": {
      "image/png": "[encoded data removed]",
      "text/plain": [
       "<Figure size 432x288 with 1 Axes>"
      ]
     },
     "metadata": {
      "needs_background": "light"
     },
     "output_type": "display_data"
    }
   ],
   "source": [
    "children_per_woman_mean.plot.hist(title='Distribution of Fertility Rate since 1799',xlabel='Fertility Rate',ylabel='Frequency Density')"
   ]
  },
  {
   "cell_type": "markdown",
   "id": "730841df",
   "metadata": {},
   "source": [
    "Observations:\n",
    "\n",
    "1. The fertlity rate clusters around the region 5.75-6.0 children per woman. \n",
    "2. Again, mean and standard deviation are clearly not representative statistics for this dataset.\n",
    "\n",
    "The final variable to be visualized is the mean income per capita, but this is left until later on in the analysis as the first two variables and any relationship between them must be investigated first."
   ]
  },
  {
   "cell_type": "markdown",
   "id": "a400319a",
   "metadata": {},
   "source": [
    "Let's now look at how the variables just visualized compare to each other:"
   ]
  },
  {
   "cell_type": "code",
   "execution_count": 33,
   "id": "f464a504",
   "metadata": {},
   "outputs": [
    {
     "name": "stderr",
     "output_type": "stream",
     "text": [
      "No handles with labels found to put in legend.\n"
     ]
    },
    {
     "data": {
      "image/png": "[encoded data removed]",
      "text/plain": [
       "<Figure size 432x288 with 1 Axes>"
      ]
     },
     "metadata": {
      "needs_background": "light"
     },
     "output_type": "display_data"
    }
   ],
   "source": [
    "plt.plot(years, life_expectancy_mean, color='r')\n",
    "plot('Year', 'Mean Global Life Expectancy', 'Global Life Expectancy vs. Year')"
   ]
  },
  {
   "cell_type": "markdown",
   "id": "08a11870",
   "metadata": {},
   "source": [
    "And now both axes reflect what are (for our purposes) continuous values!\n",
    "\n",
    "Observations:\n",
    "\n",
    "- There is a significant dip in life expectancy around the time of the world wars. This would make sense as so many people died.\n",
    "- There appears to be a dip around 1950 - the cause of this is not clear.\n",
    "- No moving averages are necessary as the line chart is already smooth and lacks noise."
   ]
  },
  {
   "cell_type": "markdown",
   "id": "c7ebb2dc",
   "metadata": {},
   "source": [
    "Now we can compare the mean global life expectancy with the other two indicators:"
   ]
  },
  {
   "cell_type": "code",
   "execution_count": 34,
   "id": "9a3cc9aa",
   "metadata": {},
   "outputs": [],
   "source": [
    "income_gdp_mean = income_gdp.mean()\n",
    "children_per_woman_mean = children_per_woman.mean()"
   ]
  },
  {
   "cell_type": "code",
   "execution_count": 35,
   "id": "cefe7968",
   "metadata": {},
   "outputs": [
    {
     "name": "stderr",
     "output_type": "stream",
     "text": [
      "No handles with labels found to put in legend.\n"
     ]
    },
    {
     "data": {
      "image/png": "[encoded data removed]",
      "text/plain": [
       "<Figure size 432x288 with 1 Axes>"
      ]
     },
     "metadata": {
      "needs_background": "light"
     },
     "output_type": "display_data"
    }
   ],
   "source": [
    "plt.plot(life_expectancy_mean, children_per_woman_mean, color='b')\n",
    "plot('Mean Global Life Expectancy (Years)', 'Mean Fertility Rate', 'Mean Fertility Rate vs. Mean Global Life Expectancy')"
   ]
  },
  {
   "cell_type": "markdown",
   "id": "175ea5c3",
   "metadata": {},
   "source": [
    "There is a strange shape in the left-hand region of the graph. Duplicated rows were dropped earlier so this is not the cause.\n",
    "\n",
    "Plotting a scatter graph so the individual datapoints can be seen clearly:"
   ]
  },
  {
   "cell_type": "code",
   "execution_count": 36,
   "id": "ca5df40d",
   "metadata": {},
   "outputs": [
    {
     "name": "stderr",
     "output_type": "stream",
     "text": [
      "No handles with labels found to put in legend.\n"
     ]
    },
    {
     "data": {
      "image/png": "[encoded data removed]",
      "text/plain": [
       "<Figure size 432x288 with 1 Axes>"
      ]
     },
     "metadata": {
      "needs_background": "light"
     },
     "output_type": "display_data"
    }
   ],
   "source": [
    "plt.scatter(life_expectancy_mean, children_per_woman_mean, color='b')\n",
    "plot('Mean Global Life Expectancy (Years)', 'Mean Fertility Rate', 'Mean Fertility Rate vs. Mean Global Life Expectancy')"
   ]
  },
  {
   "cell_type": "markdown",
   "id": "529ff58b",
   "metadata": {},
   "source": [
    "The cause is now clear! The line chart attempted to join an apparent anomaly with the rest of the data.\n",
    "\n",
    "Observations:\n",
    "\n",
    "- The relationship between these two variables is non-linear\n",
    "- However, there is a clear trend after life expectancy = 60 that the fertility rate drops with increasing life expectancy.\n",
    "- For the global life expectancy in the range 40-60 years, there appears to be very little correlation.\n",
    "- For the global life expectancy less than around 40 years, there appears to be a weak negative correlation.\n",
    "- The datapoint which appears to be an anomaly may well be the result of the wars and may not be an anomaly at all, so it will be left in the datasets\n",
    "\n",
    "\n",
    "A question that arises from this is whether the fertility rate changed significantly over the same decade as the mean global life expectancy. To see whether this is true we can plot the following:"
   ]
  },
  {
   "cell_type": "code",
   "execution_count": 37,
   "id": "9b8de362",
   "metadata": {},
   "outputs": [
    {
     "name": "stderr",
     "output_type": "stream",
     "text": [
      "No handles with labels found to put in legend.\n"
     ]
    },
    {
     "data": {
      "image/png": "[encoded data removed]",
      "text/plain": [
       "<Figure size 432x288 with 1 Axes>"
      ]
     },
     "metadata": {
      "needs_background": "light"
     },
     "output_type": "display_data"
    }
   ],
   "source": [
    "plt.plot(years, children_per_woman_mean, color='g')\n",
    "plot('Year', 'Mean Fertility Rate', 'Mean Fertility Rate vs. Year')"
   ]
  },
  {
   "cell_type": "markdown",
   "id": "66100080",
   "metadata": {},
   "source": [
    "Here the fertility rate seems to have dropped significantly after around the year 1960.\n",
    "\n",
    "It appears that the drop in fertility rate lags about 20-30 years behind the sudden increase in mean global life expectancy. This suggests that there was roughly a full generation between the two events. \n",
    "\n",
    "This is quite important to investigate as:\n",
    "- it appeared that fertility rate and mean global life expectancy are only very strongly correlated for the age range 60+\n",
    "- confirming the lag shows a more complex relationship\n",
    "- there may be a 'tipping point' where fertility rate suddenly dips.\n",
    "\n",
    "However we should investigate this statistically first.\n",
    "\n",
    "Plotting the changes in both indicators:"
   ]
  },
  {
   "cell_type": "code",
   "execution_count": 38,
   "id": "f5afd9aa",
   "metadata": {},
   "outputs": [],
   "source": [
    "change_in_life_expectancy = np.diff(life_expectancy_mean)"
   ]
  },
  {
   "cell_type": "code",
   "execution_count": 39,
   "id": "ab0b1f20",
   "metadata": {},
   "outputs": [],
   "source": [
    "change_in_children_per_woman = np.diff(children_per_woman_mean)"
   ]
  },
  {
   "cell_type": "code",
   "execution_count": 40,
   "id": "cce00625",
   "metadata": {},
   "outputs": [],
   "source": [
    "years2 = years[1:]"
   ]
  },
  {
   "cell_type": "code",
   "execution_count": 41,
   "id": "fdb3e09d",
   "metadata": {},
   "outputs": [
    {
     "data": {
      "image/png": "[encoded data removed]",
      "text/plain": [
       "<Figure size 432x288 with 1 Axes>"
      ]
     },
     "metadata": {
      "needs_background": "light"
     },
     "output_type": "display_data"
    }
   ],
   "source": [
    "plt.plot(years2, change_in_children_per_woman, color='r',label='Fertility Rate')\n",
    "plot('Year','Fertility Rate','Change in Fertility Rate vs. Year')"
   ]
  },
  {
   "cell_type": "code",
   "execution_count": 42,
   "id": "338138b7",
   "metadata": {},
   "outputs": [
    {
     "data": {
      "image/png": "[encoded data removed]",
      "text/plain": [
       "<Figure size 432x288 with 1 Axes>"
      ]
     },
     "metadata": {
      "needs_background": "light"
     },
     "output_type": "display_data"
    }
   ],
   "source": [
    "plt.plot(years2, change_in_life_expectancy, color='g', label='Life Expectancy')\n",
    "plot('Year','Change in Life Expectancy (Years)','Change in Life Expectancy vs. Year')"
   ]
  },
  {
   "cell_type": "markdown",
   "id": "b95e0cd5",
   "metadata": {},
   "source": [
    "And now plotting them on the same graph so that they can be compared:"
   ]
  },
  {
   "cell_type": "code",
   "execution_count": 43,
   "id": "a2665686",
   "metadata": {},
   "outputs": [
    {
     "data": {
      "image/png": "[encoded data removed]",
      "text/plain": [
       "<Figure size 432x288 with 1 Axes>"
      ]
     },
     "metadata": {
      "needs_background": "light"
     },
     "output_type": "display_data"
    }
   ],
   "source": [
    "plt.plot(years2, change_in_life_expectancy, color='g', label='Life Expectancy')\n",
    "plt.plot(years2, change_in_children_per_woman, color='r',label='Fertility Rate')\n",
    "plot('Year','Independent Variable','Life Expectancy and Fertility Rate Changes with Year')"
   ]
  },
  {
   "cell_type": "markdown",
   "id": "3da3eb9d",
   "metadata": {},
   "source": [
    "\n",
    "Some observations:\n",
    "\n",
    "- the changes in the two variables are not easy to see when directly compared.\n",
    "- However when the change in fertility rate is plotted then it is easy to see the changes\n",
    "- Comparing the two individual plots we can see that the spikes follow each other quite closely - this is the lag which was spotted earlier\n",
    "- It may be that there is a link, but that fertility rate is more sensitive?"
   ]
  },
  {
   "cell_type": "code",
   "execution_count": 44,
   "id": "0f60b08b",
   "metadata": {},
   "outputs": [
    {
     "data": {
      "text/plain": [
       "<AxesSubplot:title={'center':'% Change in Fertility Rate vs. Year'}, xlabel='Year', ylabel='% Change in Fertility Rate'>"
      ]
     },
     "execution_count": 44,
     "metadata": {},
     "output_type": "execute_result"
    },
    {
     "data": {
      "image/png": "[encoded data removed]",
      "text/plain": [
       "<Figure size 432x288 with 1 Axes>"
      ]
     },
     "metadata": {
      "needs_background": "light"
     },
     "output_type": "display_data"
    }
   ],
   "source": [
    "percent_fertility = change_in_children_per_woman/children_per_woman_mean[:-1]\n",
    "percent_fertility = 100*percent_fertility\n",
    "percent_fertility.plot(title='% Change in Fertility Rate vs. Year', xlabel='Year',ylabel='% Change in Fertility Rate')"
   ]
  },
  {
   "cell_type": "markdown",
   "id": "ce026487",
   "metadata": {},
   "source": [
    "Here we need to smooth out the graph using a 10-year moving average:"
   ]
  },
  {
   "cell_type": "code",
   "execution_count": 45,
   "id": "ad21542d",
   "metadata": {},
   "outputs": [
    {
     "data": {
      "text/plain": [
       "<AxesSubplot:title={'center':'% Change in Fertility vs. Year'}, xlabel='Year', ylabel='% Change'>"
      ]
     },
     "execution_count": 45,
     "metadata": {},
     "output_type": "execute_result"
    },
    {
     "data": {
      "image/png": "[encoded data removed]",
      "text/plain": [
       "<Figure size 432x288 with 1 Axes>"
      ]
     },
     "metadata": {
      "needs_background": "light"
     },
     "output_type": "display_data"
    }
   ],
   "source": [
    "percent_fertility_moving_av = pd.Series(percent_fertility).rolling(window=10).mean().iloc[9:]\n",
    "percent_fertility_moving_av.plot(title='% Change in Fertility vs. Year', xlabel='Year',ylabel='% Change')"
   ]
  },
  {
   "cell_type": "code",
   "execution_count": 46,
   "id": "ed5cb66b",
   "metadata": {},
   "outputs": [
    {
     "data": {
      "image/png": "[encoded data removed]",
      "text/plain": [
       "<Figure size 432x288 with 1 Axes>"
      ]
     },
     "metadata": {
      "needs_background": "light"
     },
     "output_type": "display_data"
    }
   ],
   "source": [
    "percent_life_expectancy = change_in_life_expectancy/life_expectancy_mean[:-1]\n",
    "percent_life_expectancy = percent_life_expectancy*100\n",
    "percent_life_expectancy_moving_av = pd.Series(percent_life_expectancy).rolling(window=10).mean().iloc[9:]\n",
    "plt.plot(years2[9:], percent_life_expectancy_moving_av,color='r', label='Moving Average')\n",
    "plt.plot(years2, percent_life_expectancy, color='g', label='Without Moving Average')\n",
    "plot('Year','% Change','% Change in Life Expectancy vs. Year')"
   ]
  },
  {
   "cell_type": "markdown",
   "id": "95b2801c",
   "metadata": {},
   "source": [
    "Now plotting the moving-averaged indicators against each other to observe if there is a time lag:"
   ]
  },
  {
   "cell_type": "code",
   "execution_count": 47,
   "id": "e118c8a5",
   "metadata": {},
   "outputs": [
    {
     "data": {
      "image/png": "[encoded data removed]",
      "text/plain": [
       "<Figure size 432x288 with 1 Axes>"
      ]
     },
     "metadata": {
      "needs_background": "light"
     },
     "output_type": "display_data"
    }
   ],
   "source": [
    "plt.plot(years2[9:], percent_life_expectancy_moving_av,color='r', label='Life Expectancy')\n",
    "plt.plot(years2[9:], percent_fertility_moving_av,color='b', label='Fertility Rate')\n",
    "\n",
    "plot('Year','% Change','% Changes in Life Expectancy and Fertility Rate vs. Year')"
   ]
  },
  {
   "cell_type": "markdown",
   "id": "6fa3c9d3",
   "metadata": {},
   "source": [
    "Hence it seems that the fertility rate may possibly follow the life expectancy, but the dependency is not well established. Some regions of the graph do not follow each other very closely - in particular, the fertility rate did not respond as drastically to the events of 1920-1930 as the life expectancy.\n",
    "\n",
    "What we can conclude is that neither would be a good predictor of the other, apart from the year 1960 onwards.\n",
    "\n",
    "For the time period 1960-2050, there appears to be a correlation (see earlier graph). The correlation was calculated:"
   ]
  },
  {
   "cell_type": "code",
   "execution_count": 48,
   "id": "b562989d",
   "metadata": {},
   "outputs": [
    {
     "name": "stderr",
     "output_type": "stream",
     "text": [
      "No handles with labels found to put in legend.\n"
     ]
    },
    {
     "data": {
      "image/png": "[encoded data removed]",
      "text/plain": [
       "<Figure size 432x288 with 1 Axes>"
      ]
     },
     "metadata": {
      "needs_background": "light"
     },
     "output_type": "display_data"
    }
   ],
   "source": [
    "modern_life_expectancy = life_expectancy_mean['1960':]\n",
    "modern_children_per_woman = children_per_woman_mean['1960':]\n",
    "plt.plot(modern_life_expectancy, modern_children_per_woman, color='g')\n",
    "\n",
    "plot('Life Expectancy','Fertility Rate','Fertility Rate vs. Life Expectancy Post-1960')"
   ]
  },
  {
   "cell_type": "markdown",
   "id": "af5119be",
   "metadata": {},
   "source": [
    "There appears to be a strong correlation again. Calculating this:"
   ]
  },
  {
   "cell_type": "code",
   "execution_count": 49,
   "id": "2d756851",
   "metadata": {},
   "outputs": [
    {
     "data": {
      "text/plain": [
       "array([[ 1.        , -0.98178081],\n",
       "       [-0.98178081,  1.        ]])"
      ]
     },
     "execution_count": 49,
     "metadata": {},
     "output_type": "execute_result"
    }
   ],
   "source": [
    "corr1 = np.corrcoef(modern_life_expectancy,modern_children_per_woman)\n",
    "corr1"
   ]
  },
  {
   "cell_type": "markdown",
   "id": "e2a0a376",
   "metadata": {},
   "source": [
    "This is a very low negative correlation of -0.982. This shows a possible strong dependency!\n",
    "\n",
    "However, this is only true for high life expectancy. It is very likely only applicable after a 'tipping point' in life expectancy has been reached - it seems from this analysis that the tipping point is around 60 years."
   ]
  },
  {
   "cell_type": "markdown",
   "id": "38689fd9",
   "metadata": {},
   "source": [
    "INVESTIGATING OTHER VARIABLES:\n",
    "\n",
    "The next part of this analysis focuses on any relationship between the following variables:\n",
    "\n",
    "- Mean global income per person, adjusted for GDP\n",
    "- Mean global fertility rate\n",
    "- Mean global life expectancy\n",
    "\n",
    "First, graphs were plotted for each:"
   ]
  },
  {
   "cell_type": "markdown",
   "id": "355cca5e",
   "metadata": {},
   "source": [
    "Income_gdp contains a lot of data in the form 210k instead of 210000 dollars, for example. This had to be converted to numbers to make sense of the data."
   ]
  },
  {
   "cell_type": "code",
   "execution_count": 50,
   "id": "189eb2e9",
   "metadata": {},
   "outputs": [
    {
     "data": {
      "text/html": [
       "<div>\n",
       "<style scoped>\n",
       "    .dataframe tbody tr th:only-of-type {\n",
       "        vertical-align: middle;\n",
       "    }\n",
       "\n",
       "    .dataframe tbody tr th {\n",
       "        vertical-align: top;\n",
       "    }\n",
       "\n",
       "    .dataframe thead th {\n",
       "        text-align: right;\n",
       "    }\n",
       "</style>\n",
       "<table border=\"1\" class=\"dataframe\">\n",
       "  <thead>\n",
       "    <tr style=\"text-align: right;\">\n",
       "      <th></th>\n",
       "      <th>country</th>\n",
       "      <th>1799</th>\n",
       "      <th>1800</th>\n",
       "      <th>1801</th>\n",
       "      <th>1802</th>\n",
       "      <th>1803</th>\n",
       "      <th>1804</th>\n",
       "      <th>1805</th>\n",
       "      <th>1806</th>\n",
       "      <th>1807</th>\n",
       "      <th>...</th>\n",
       "      <th>2041</th>\n",
       "      <th>2042</th>\n",
       "      <th>2043</th>\n",
       "      <th>2044</th>\n",
       "      <th>2045</th>\n",
       "      <th>2046</th>\n",
       "      <th>2047</th>\n",
       "      <th>2048</th>\n",
       "      <th>2049</th>\n",
       "      <th>2050</th>\n",
       "    </tr>\n",
       "  </thead>\n",
       "  <tbody>\n",
       "    <tr>\n",
       "      <th>0</th>\n",
       "      <td>Afghanistan</td>\n",
       "      <td>674</td>\n",
       "      <td>674</td>\n",
       "      <td>674</td>\n",
       "      <td>674</td>\n",
       "      <td>674</td>\n",
       "      <td>674</td>\n",
       "      <td>674</td>\n",
       "      <td>674</td>\n",
       "      <td>674</td>\n",
       "      <td>...</td>\n",
       "      <td>2880</td>\n",
       "      <td>2940</td>\n",
       "      <td>3000</td>\n",
       "      <td>3070</td>\n",
       "      <td>3130</td>\n",
       "      <td>3200</td>\n",
       "      <td>3270</td>\n",
       "      <td>3340</td>\n",
       "      <td>3410</td>\n",
       "      <td>3480</td>\n",
       "    </tr>\n",
       "    <tr>\n",
       "      <th>1</th>\n",
       "      <td>Angola</td>\n",
       "      <td>691</td>\n",
       "      <td>693</td>\n",
       "      <td>697</td>\n",
       "      <td>700</td>\n",
       "      <td>702</td>\n",
       "      <td>705</td>\n",
       "      <td>709</td>\n",
       "      <td>712</td>\n",
       "      <td>716</td>\n",
       "      <td>...</td>\n",
       "      <td>8040</td>\n",
       "      <td>8220</td>\n",
       "      <td>8390</td>\n",
       "      <td>8570</td>\n",
       "      <td>8750</td>\n",
       "      <td>8940</td>\n",
       "      <td>9120</td>\n",
       "      <td>9320</td>\n",
       "      <td>9520</td>\n",
       "      <td>9720</td>\n",
       "    </tr>\n",
       "    <tr>\n",
       "      <th>2</th>\n",
       "      <td>Albania</td>\n",
       "      <td>746</td>\n",
       "      <td>746</td>\n",
       "      <td>746</td>\n",
       "      <td>746</td>\n",
       "      <td>746</td>\n",
       "      <td>747</td>\n",
       "      <td>747</td>\n",
       "      <td>747</td>\n",
       "      <td>747</td>\n",
       "      <td>...</td>\n",
       "      <td>24.5k</td>\n",
       "      <td>25k</td>\n",
       "      <td>25.5k</td>\n",
       "      <td>26.1k</td>\n",
       "      <td>26.6k</td>\n",
       "      <td>27.2k</td>\n",
       "      <td>27.8k</td>\n",
       "      <td>28.3k</td>\n",
       "      <td>28.9k</td>\n",
       "      <td>29.6k</td>\n",
       "    </tr>\n",
       "    <tr>\n",
       "      <th>3</th>\n",
       "      <td>Andorra</td>\n",
       "      <td>1340</td>\n",
       "      <td>1340</td>\n",
       "      <td>1340</td>\n",
       "      <td>1350</td>\n",
       "      <td>1350</td>\n",
       "      <td>1350</td>\n",
       "      <td>1350</td>\n",
       "      <td>1360</td>\n",
       "      <td>1360</td>\n",
       "      <td>...</td>\n",
       "      <td>108k</td>\n",
       "      <td>111k</td>\n",
       "      <td>113k</td>\n",
       "      <td>116k</td>\n",
       "      <td>118k</td>\n",
       "      <td>121k</td>\n",
       "      <td>123k</td>\n",
       "      <td>126k</td>\n",
       "      <td>128k</td>\n",
       "      <td>131k</td>\n",
       "    </tr>\n",
       "    <tr>\n",
       "      <th>4</th>\n",
       "      <td>United Arab Emirates</td>\n",
       "      <td>1120</td>\n",
       "      <td>1120</td>\n",
       "      <td>1120</td>\n",
       "      <td>1130</td>\n",
       "      <td>1130</td>\n",
       "      <td>1140</td>\n",
       "      <td>1140</td>\n",
       "      <td>1150</td>\n",
       "      <td>1150</td>\n",
       "      <td>...</td>\n",
       "      <td>74.5k</td>\n",
       "      <td>76.1k</td>\n",
       "      <td>77.7k</td>\n",
       "      <td>79.3k</td>\n",
       "      <td>81k</td>\n",
       "      <td>82.7k</td>\n",
       "      <td>84.5k</td>\n",
       "      <td>86.3k</td>\n",
       "      <td>88.1k</td>\n",
       "      <td>90k</td>\n",
       "    </tr>\n",
       "  </tbody>\n",
       "</table>\n",
       "<p>5 rows × 252 columns</p>\n",
       "</div>"
      ],
      "text/plain": [
       "                country  1799  1800  1801  1802  1803  1804  1805  1806  1807  \\\n",
       "0           Afghanistan   674   674   674   674   674   674   674   674   674   \n",
       "1                Angola   691   693   697   700   702   705   709   712   716   \n",
       "2               Albania   746   746   746   746   746   747   747   747   747   \n",
       "3               Andorra  1340  1340  1340  1350  1350  1350  1350  1360  1360   \n",
       "4  United Arab Emirates  1120  1120  1120  1130  1130  1140  1140  1150  1150   \n",
       "\n",
       "   ...   2041   2042   2043   2044   2045   2046   2047   2048   2049   2050  \n",
       "0  ...   2880   2940   3000   3070   3130   3200   3270   3340   3410   3480  \n",
       "1  ...   8040   8220   8390   8570   8750   8940   9120   9320   9520   9720  \n",
       "2  ...  24.5k    25k  25.5k  26.1k  26.6k  27.2k  27.8k  28.3k  28.9k  29.6k  \n",
       "3  ...   108k   111k   113k   116k   118k   121k   123k   126k   128k   131k  \n",
       "4  ...  74.5k  76.1k  77.7k  79.3k    81k  82.7k  84.5k  86.3k  88.1k    90k  \n",
       "\n",
       "[5 rows x 252 columns]"
      ]
     },
     "execution_count": 50,
     "metadata": {},
     "output_type": "execute_result"
    }
   ],
   "source": [
    "income_gdp.head()"
   ]
  },
  {
   "cell_type": "code",
   "execution_count": 51,
   "id": "868468d6",
   "metadata": {},
   "outputs": [
    {
     "name": "stdout",
     "output_type": "stream",
     "text": [
      "<class 'pandas.core.frame.DataFrame'>\n",
      "RangeIndex: 195 entries, 0 to 194\n",
      "Columns: 252 entries, country to 2050\n",
      "dtypes: int64(103), object(149)\n",
      "memory usage: 384.0+ KB\n"
     ]
    }
   ],
   "source": [
    "income_gdp.info()"
   ]
  },
  {
   "cell_type": "markdown",
   "id": "75f1b17f",
   "metadata": {},
   "source": [
    "What kind of objects are the objects?"
   ]
  },
  {
   "cell_type": "code",
   "execution_count": 52,
   "id": "0428c745",
   "metadata": {},
   "outputs": [
    {
     "data": {
      "text/plain": [
       "numpy.int64"
      ]
     },
     "execution_count": 52,
     "metadata": {},
     "output_type": "execute_result"
    }
   ],
   "source": [
    "type(income_gdp['1799'][109])"
   ]
  },
  {
   "cell_type": "code",
   "execution_count": 53,
   "id": "6e263bde",
   "metadata": {},
   "outputs": [],
   "source": [
    "copy = income_gdp.copy() # For data cleaning purposes"
   ]
  },
  {
   "cell_type": "code",
   "execution_count": 54,
   "id": "c16e09da",
   "metadata": {},
   "outputs": [
    {
     "data": {
      "text/html": [
       "<div>\n",
       "<style scoped>\n",
       "    .dataframe tbody tr th:only-of-type {\n",
       "        vertical-align: middle;\n",
       "    }\n",
       "\n",
       "    .dataframe tbody tr th {\n",
       "        vertical-align: top;\n",
       "    }\n",
       "\n",
       "    .dataframe thead th {\n",
       "        text-align: right;\n",
       "    }\n",
       "</style>\n",
       "<table border=\"1\" class=\"dataframe\">\n",
       "  <thead>\n",
       "    <tr style=\"text-align: right;\">\n",
       "      <th></th>\n",
       "      <th>country</th>\n",
       "      <th>1799</th>\n",
       "      <th>1800</th>\n",
       "      <th>1801</th>\n",
       "      <th>1802</th>\n",
       "      <th>1803</th>\n",
       "      <th>1804</th>\n",
       "      <th>1805</th>\n",
       "      <th>1806</th>\n",
       "      <th>1807</th>\n",
       "      <th>...</th>\n",
       "      <th>2041</th>\n",
       "      <th>2042</th>\n",
       "      <th>2043</th>\n",
       "      <th>2044</th>\n",
       "      <th>2045</th>\n",
       "      <th>2046</th>\n",
       "      <th>2047</th>\n",
       "      <th>2048</th>\n",
       "      <th>2049</th>\n",
       "      <th>2050</th>\n",
       "    </tr>\n",
       "  </thead>\n",
       "  <tbody>\n",
       "    <tr>\n",
       "      <th>0</th>\n",
       "      <td>Afghanistan</td>\n",
       "      <td>674</td>\n",
       "      <td>674</td>\n",
       "      <td>674</td>\n",
       "      <td>674</td>\n",
       "      <td>674</td>\n",
       "      <td>674</td>\n",
       "      <td>674</td>\n",
       "      <td>674</td>\n",
       "      <td>674</td>\n",
       "      <td>...</td>\n",
       "      <td>2880</td>\n",
       "      <td>2940</td>\n",
       "      <td>3000</td>\n",
       "      <td>3070</td>\n",
       "      <td>3130</td>\n",
       "      <td>3200</td>\n",
       "      <td>3270</td>\n",
       "      <td>3340</td>\n",
       "      <td>3410</td>\n",
       "      <td>3480</td>\n",
       "    </tr>\n",
       "    <tr>\n",
       "      <th>1</th>\n",
       "      <td>Angola</td>\n",
       "      <td>691</td>\n",
       "      <td>693</td>\n",
       "      <td>697</td>\n",
       "      <td>700</td>\n",
       "      <td>702</td>\n",
       "      <td>705</td>\n",
       "      <td>709</td>\n",
       "      <td>712</td>\n",
       "      <td>716</td>\n",
       "      <td>...</td>\n",
       "      <td>8040</td>\n",
       "      <td>8220</td>\n",
       "      <td>8390</td>\n",
       "      <td>8570</td>\n",
       "      <td>8750</td>\n",
       "      <td>8940</td>\n",
       "      <td>9120</td>\n",
       "      <td>9320</td>\n",
       "      <td>9520</td>\n",
       "      <td>9720</td>\n",
       "    </tr>\n",
       "    <tr>\n",
       "      <th>2</th>\n",
       "      <td>Albania</td>\n",
       "      <td>746</td>\n",
       "      <td>746</td>\n",
       "      <td>746</td>\n",
       "      <td>746</td>\n",
       "      <td>746</td>\n",
       "      <td>747</td>\n",
       "      <td>747</td>\n",
       "      <td>747</td>\n",
       "      <td>747</td>\n",
       "      <td>...</td>\n",
       "      <td>24.5k</td>\n",
       "      <td>25k</td>\n",
       "      <td>25.5k</td>\n",
       "      <td>26.1k</td>\n",
       "      <td>26.6k</td>\n",
       "      <td>27.2k</td>\n",
       "      <td>27.8k</td>\n",
       "      <td>28.3k</td>\n",
       "      <td>28.9k</td>\n",
       "      <td>29.6k</td>\n",
       "    </tr>\n",
       "    <tr>\n",
       "      <th>3</th>\n",
       "      <td>Andorra</td>\n",
       "      <td>1340</td>\n",
       "      <td>1340</td>\n",
       "      <td>1340</td>\n",
       "      <td>1350</td>\n",
       "      <td>1350</td>\n",
       "      <td>1350</td>\n",
       "      <td>1350</td>\n",
       "      <td>1360</td>\n",
       "      <td>1360</td>\n",
       "      <td>...</td>\n",
       "      <td>108k</td>\n",
       "      <td>111k</td>\n",
       "      <td>113k</td>\n",
       "      <td>116k</td>\n",
       "      <td>118k</td>\n",
       "      <td>121k</td>\n",
       "      <td>123k</td>\n",
       "      <td>126k</td>\n",
       "      <td>128k</td>\n",
       "      <td>131k</td>\n",
       "    </tr>\n",
       "    <tr>\n",
       "      <th>4</th>\n",
       "      <td>United Arab Emirates</td>\n",
       "      <td>1120</td>\n",
       "      <td>1120</td>\n",
       "      <td>1120</td>\n",
       "      <td>1130</td>\n",
       "      <td>1130</td>\n",
       "      <td>1140</td>\n",
       "      <td>1140</td>\n",
       "      <td>1150</td>\n",
       "      <td>1150</td>\n",
       "      <td>...</td>\n",
       "      <td>74.5k</td>\n",
       "      <td>76.1k</td>\n",
       "      <td>77.7k</td>\n",
       "      <td>79.3k</td>\n",
       "      <td>81k</td>\n",
       "      <td>82.7k</td>\n",
       "      <td>84.5k</td>\n",
       "      <td>86.3k</td>\n",
       "      <td>88.1k</td>\n",
       "      <td>90k</td>\n",
       "    </tr>\n",
       "  </tbody>\n",
       "</table>\n",
       "<p>5 rows × 252 columns</p>\n",
       "</div>"
      ],
      "text/plain": [
       "                country  1799  1800  1801  1802  1803  1804  1805  1806  1807  \\\n",
       "0           Afghanistan   674   674   674   674   674   674   674   674   674   \n",
       "1                Angola   691   693   697   700   702   705   709   712   716   \n",
       "2               Albania   746   746   746   746   746   747   747   747   747   \n",
       "3               Andorra  1340  1340  1340  1350  1350  1350  1350  1360  1360   \n",
       "4  United Arab Emirates  1120  1120  1120  1130  1130  1140  1140  1150  1150   \n",
       "\n",
       "   ...   2041   2042   2043   2044   2045   2046   2047   2048   2049   2050  \n",
       "0  ...   2880   2940   3000   3070   3130   3200   3270   3340   3410   3480  \n",
       "1  ...   8040   8220   8390   8570   8750   8940   9120   9320   9520   9720  \n",
       "2  ...  24.5k    25k  25.5k  26.1k  26.6k  27.2k  27.8k  28.3k  28.9k  29.6k  \n",
       "3  ...   108k   111k   113k   116k   118k   121k   123k   126k   128k   131k  \n",
       "4  ...  74.5k  76.1k  77.7k  79.3k    81k  82.7k  84.5k  86.3k  88.1k    90k  \n",
       "\n",
       "[5 rows x 252 columns]"
      ]
     },
     "execution_count": 54,
     "metadata": {},
     "output_type": "execute_result"
    }
   ],
   "source": [
    "income_gdp.head()"
   ]
  },
  {
   "cell_type": "code",
   "execution_count": 55,
   "id": "9b21cc24",
   "metadata": {},
   "outputs": [],
   "source": [
    "income_gdp['2044'] = income_gdp['2044'].str.replace('k','').astype(float)*1000"
   ]
  },
  {
   "cell_type": "code",
   "execution_count": 56,
   "id": "09226496",
   "metadata": {},
   "outputs": [
    {
     "data": {
      "text/plain": [
       "0      3070000.0\n",
       "1      8570000.0\n",
       "2        26100.0\n",
       "3       116000.0\n",
       "4        79300.0\n",
       "         ...    \n",
       "190    8770000.0\n",
       "191    4240000.0\n",
       "192      15500.0\n",
       "193    3760000.0\n",
       "194    3720000.0\n",
       "Name: 2044, Length: 195, dtype: float64"
      ]
     },
     "execution_count": 56,
     "metadata": {},
     "output_type": "execute_result"
    }
   ],
   "source": [
    "income_gdp['2044']"
   ]
  },
  {
   "cell_type": "markdown",
   "id": "20b8d52b",
   "metadata": {},
   "source": [
    "This method multiplies every value by 1000, which is not what we want."
   ]
  },
  {
   "cell_type": "markdown",
   "id": "101305dc",
   "metadata": {},
   "source": [
    "Replacing the values containing k with a string '000':"
   ]
  },
  {
   "cell_type": "code",
   "execution_count": 57,
   "id": "102f6e50",
   "metadata": {},
   "outputs": [
    {
     "data": {
      "text/plain": [
       "0       674.0\n",
       "1       691.0\n",
       "2       746.0\n",
       "3      1340.0\n",
       "4      1120.0\n",
       "        ...  \n",
       "190    1570.0\n",
       "191     981.0\n",
       "192    1760.0\n",
       "193     741.0\n",
       "194     972.0\n",
       "Name: 1799, Length: 195, dtype: float64"
      ]
     },
     "execution_count": 57,
     "metadata": {},
     "output_type": "execute_result"
    }
   ],
   "source": [
    "income_gdp['1799'].replace({\"K\":\"*1e3\", \"M\":\"*1e6\", \"k\":\"*1e3\"}, regex=True).map(pd.eval).astype(float)"
   ]
  },
  {
   "cell_type": "code",
   "execution_count": 58,
   "id": "dad4aaa1",
   "metadata": {},
   "outputs": [],
   "source": [
    "for column in income_gdp.columns[1:]:\n",
    "    income_gdp[column] = income_gdp[column].replace({\"K\":\"*1e3\", \"M\":\"*1e6\", \"k\":\"*1e3\"}, regex=True).map(pd.eval).astype(float)"
   ]
  },
  {
   "cell_type": "code",
   "execution_count": 59,
   "id": "eaece066",
   "metadata": {},
   "outputs": [
    {
     "data": {
      "text/html": [
       "<div>\n",
       "<style scoped>\n",
       "    .dataframe tbody tr th:only-of-type {\n",
       "        vertical-align: middle;\n",
       "    }\n",
       "\n",
       "    .dataframe tbody tr th {\n",
       "        vertical-align: top;\n",
       "    }\n",
       "\n",
       "    .dataframe thead th {\n",
       "        text-align: right;\n",
       "    }\n",
       "</style>\n",
       "<table border=\"1\" class=\"dataframe\">\n",
       "  <thead>\n",
       "    <tr style=\"text-align: right;\">\n",
       "      <th></th>\n",
       "      <th>country</th>\n",
       "      <th>1799</th>\n",
       "      <th>1800</th>\n",
       "      <th>1801</th>\n",
       "      <th>1802</th>\n",
       "      <th>1803</th>\n",
       "      <th>1804</th>\n",
       "      <th>1805</th>\n",
       "      <th>1806</th>\n",
       "      <th>1807</th>\n",
       "      <th>...</th>\n",
       "      <th>2041</th>\n",
       "      <th>2042</th>\n",
       "      <th>2043</th>\n",
       "      <th>2044</th>\n",
       "      <th>2045</th>\n",
       "      <th>2046</th>\n",
       "      <th>2047</th>\n",
       "      <th>2048</th>\n",
       "      <th>2049</th>\n",
       "      <th>2050</th>\n",
       "    </tr>\n",
       "  </thead>\n",
       "  <tbody>\n",
       "    <tr>\n",
       "      <th>0</th>\n",
       "      <td>Afghanistan</td>\n",
       "      <td>674.0</td>\n",
       "      <td>674.0</td>\n",
       "      <td>674.0</td>\n",
       "      <td>674.0</td>\n",
       "      <td>674.0</td>\n",
       "      <td>674.0</td>\n",
       "      <td>674.0</td>\n",
       "      <td>674.0</td>\n",
       "      <td>674.0</td>\n",
       "      <td>...</td>\n",
       "      <td>2880.0</td>\n",
       "      <td>2940.0</td>\n",
       "      <td>3000.0</td>\n",
       "      <td>3070000.0</td>\n",
       "      <td>3130.0</td>\n",
       "      <td>3200.0</td>\n",
       "      <td>3270.0</td>\n",
       "      <td>3340.0</td>\n",
       "      <td>3410.0</td>\n",
       "      <td>3480.0</td>\n",
       "    </tr>\n",
       "    <tr>\n",
       "      <th>1</th>\n",
       "      <td>Angola</td>\n",
       "      <td>691.0</td>\n",
       "      <td>693.0</td>\n",
       "      <td>697.0</td>\n",
       "      <td>700.0</td>\n",
       "      <td>702.0</td>\n",
       "      <td>705.0</td>\n",
       "      <td>709.0</td>\n",
       "      <td>712.0</td>\n",
       "      <td>716.0</td>\n",
       "      <td>...</td>\n",
       "      <td>8040.0</td>\n",
       "      <td>8220.0</td>\n",
       "      <td>8390.0</td>\n",
       "      <td>8570000.0</td>\n",
       "      <td>8750.0</td>\n",
       "      <td>8940.0</td>\n",
       "      <td>9120.0</td>\n",
       "      <td>9320.0</td>\n",
       "      <td>9520.0</td>\n",
       "      <td>9720.0</td>\n",
       "    </tr>\n",
       "    <tr>\n",
       "      <th>2</th>\n",
       "      <td>Albania</td>\n",
       "      <td>746.0</td>\n",
       "      <td>746.0</td>\n",
       "      <td>746.0</td>\n",
       "      <td>746.0</td>\n",
       "      <td>746.0</td>\n",
       "      <td>747.0</td>\n",
       "      <td>747.0</td>\n",
       "      <td>747.0</td>\n",
       "      <td>747.0</td>\n",
       "      <td>...</td>\n",
       "      <td>24500.0</td>\n",
       "      <td>25000.0</td>\n",
       "      <td>25500.0</td>\n",
       "      <td>26100.0</td>\n",
       "      <td>26600.0</td>\n",
       "      <td>27200.0</td>\n",
       "      <td>27800.0</td>\n",
       "      <td>28300.0</td>\n",
       "      <td>28900.0</td>\n",
       "      <td>29600.0</td>\n",
       "    </tr>\n",
       "    <tr>\n",
       "      <th>3</th>\n",
       "      <td>Andorra</td>\n",
       "      <td>1340.0</td>\n",
       "      <td>1340.0</td>\n",
       "      <td>1340.0</td>\n",
       "      <td>1350.0</td>\n",
       "      <td>1350.0</td>\n",
       "      <td>1350.0</td>\n",
       "      <td>1350.0</td>\n",
       "      <td>1360.0</td>\n",
       "      <td>1360.0</td>\n",
       "      <td>...</td>\n",
       "      <td>108000.0</td>\n",
       "      <td>111000.0</td>\n",
       "      <td>113000.0</td>\n",
       "      <td>116000.0</td>\n",
       "      <td>118000.0</td>\n",
       "      <td>121000.0</td>\n",
       "      <td>123000.0</td>\n",
       "      <td>126000.0</td>\n",
       "      <td>128000.0</td>\n",
       "      <td>131000.0</td>\n",
       "    </tr>\n",
       "    <tr>\n",
       "      <th>4</th>\n",
       "      <td>United Arab Emirates</td>\n",
       "      <td>1120.0</td>\n",
       "      <td>1120.0</td>\n",
       "      <td>1120.0</td>\n",
       "      <td>1130.0</td>\n",
       "      <td>1130.0</td>\n",
       "      <td>1140.0</td>\n",
       "      <td>1140.0</td>\n",
       "      <td>1150.0</td>\n",
       "      <td>1150.0</td>\n",
       "      <td>...</td>\n",
       "      <td>74500.0</td>\n",
       "      <td>76100.0</td>\n",
       "      <td>77700.0</td>\n",
       "      <td>79300.0</td>\n",
       "      <td>81000.0</td>\n",
       "      <td>82700.0</td>\n",
       "      <td>84500.0</td>\n",
       "      <td>86300.0</td>\n",
       "      <td>88100.0</td>\n",
       "      <td>90000.0</td>\n",
       "    </tr>\n",
       "  </tbody>\n",
       "</table>\n",
       "<p>5 rows × 252 columns</p>\n",
       "</div>"
      ],
      "text/plain": [
       "                country    1799    1800    1801    1802    1803    1804  \\\n",
       "0           Afghanistan   674.0   674.0   674.0   674.0   674.0   674.0   \n",
       "1                Angola   691.0   693.0   697.0   700.0   702.0   705.0   \n",
       "2               Albania   746.0   746.0   746.0   746.0   746.0   747.0   \n",
       "3               Andorra  1340.0  1340.0  1340.0  1350.0  1350.0  1350.0   \n",
       "4  United Arab Emirates  1120.0  1120.0  1120.0  1130.0  1130.0  1140.0   \n",
       "\n",
       "     1805    1806    1807  ...      2041      2042      2043       2044  \\\n",
       "0   674.0   674.0   674.0  ...    2880.0    2940.0    3000.0  3070000.0   \n",
       "1   709.0   712.0   716.0  ...    8040.0    8220.0    8390.0  8570000.0   \n",
       "2   747.0   747.0   747.0  ...   24500.0   25000.0   25500.0    26100.0   \n",
       "3  1350.0  1360.0  1360.0  ...  108000.0  111000.0  113000.0   116000.0   \n",
       "4  1140.0  1150.0  1150.0  ...   74500.0   76100.0   77700.0    79300.0   \n",
       "\n",
       "       2045      2046      2047      2048      2049      2050  \n",
       "0    3130.0    3200.0    3270.0    3340.0    3410.0    3480.0  \n",
       "1    8750.0    8940.0    9120.0    9320.0    9520.0    9720.0  \n",
       "2   26600.0   27200.0   27800.0   28300.0   28900.0   29600.0  \n",
       "3  118000.0  121000.0  123000.0  126000.0  128000.0  131000.0  \n",
       "4   81000.0   82700.0   84500.0   86300.0   88100.0   90000.0  \n",
       "\n",
       "[5 rows x 252 columns]"
      ]
     },
     "execution_count": 59,
     "metadata": {},
     "output_type": "execute_result"
    }
   ],
   "source": [
    "income_gdp.head() # Quick check"
   ]
  },
  {
   "cell_type": "markdown",
   "id": "ba963596",
   "metadata": {},
   "source": [
    "Now finding the mean income per year and visualizing this over time:"
   ]
  },
  {
   "cell_type": "code",
   "execution_count": 60,
   "id": "72ad8a27",
   "metadata": {},
   "outputs": [
    {
     "data": {
      "text/plain": [
       "<AxesSubplot:title={'center':'Income vs. Year'}, xlabel='Year', ylabel='Income (Dollars)'>"
      ]
     },
     "execution_count": 60,
     "metadata": {},
     "output_type": "execute_result"
    },
    {
     "data": {
      "image/png": "[encoded data removed]",
      "text/plain": [
       "<Figure size 432x288 with 1 Axes>"
      ]
     },
     "metadata": {
      "needs_background": "light"
     },
     "output_type": "display_data"
    }
   ],
   "source": [
    "income_mean = income_gdp.mean()\n",
    "income_mean.plot(title='Income vs. Year',xlabel='Year',ylabel='Income (Dollars)')"
   ]
  },
  {
   "cell_type": "markdown",
   "id": "d84a710a",
   "metadata": {},
   "source": [
    "This tells us little other than that the income overall increased and is projected to boom in the mid-2000s.\n",
    "Plotting the changes in income over the same time period also shows little more than this:"
   ]
  },
  {
   "cell_type": "code",
   "execution_count": 61,
   "id": "de0f42cc",
   "metadata": {},
   "outputs": [
    {
     "name": "stderr",
     "output_type": "stream",
     "text": [
      "No handles with labels found to put in legend.\n"
     ]
    },
    {
     "data": {
      "image/png": "[encoded data removed]",
      "text/plain": [
       "<Figure size 432x288 with 1 Axes>"
      ]
     },
     "metadata": {
      "needs_background": "light"
     },
     "output_type": "display_data"
    }
   ],
   "source": [
    "changes_income = np.diff(income_mean)\n",
    "plt.plot(years2,changes_income)\n",
    "plot('Year', 'Change in Mean Global Income','Changes in Income vs. Year')"
   ]
  },
  {
   "cell_type": "markdown",
   "id": "3a5665ae",
   "metadata": {},
   "source": [
    "It is difficult to see a trend here.\n",
    "To get a proper idea of the mean income distribution, a histogram was plotted:"
   ]
  },
  {
   "cell_type": "code",
   "execution_count": 92,
   "id": "218a3640",
   "metadata": {},
   "outputs": [
    {
     "data": {
      "text/plain": [
       "<AxesSubplot:title={'center':'Distribution of Mean Income per Capita since 1799'}, ylabel='Frequency'>"
      ]
     },
     "execution_count": 92,
     "metadata": {},
     "output_type": "execute_result"
    },
    {
     "data": {
      "image/png": "[encoded data removed]",
      "text/plain": [
       "<Figure size 432x288 with 1 Axes>"
      ]
     },
     "metadata": {
      "needs_background": "light"
     },
     "output_type": "display_data"
    }
   ],
   "source": [
    "income_mean.plot.hist(bins=20,title='Distribution of Mean Income per Capita since 1799',ylabel='Frequency Density')"
   ]
  },
  {
   "cell_type": "markdown",
   "id": "dc6fc6ce",
   "metadata": {},
   "source": [
    "Observations:\n",
    "1. There is no middle ground in income.\n",
    "2. A distribution as skewed as this is unlikely to correlate well with either of the variables explored earlier in the analysis.\n",
    "2. This is an apparent pattern - to investigate it further, we would need to plot the income distribution for smaller time periods and observe whether this pattern is still prevalent. However, this goes beyond the scope of this project.\n",
    "\n",
    "Now we can check if there is a relationship between mean income, mean fertility rate and mean life expectancy over the given time period:"
   ]
  },
  {
   "cell_type": "code",
   "execution_count": 62,
   "id": "8034ed19",
   "metadata": {},
   "outputs": [
    {
     "name": "stderr",
     "output_type": "stream",
     "text": [
      "No handles with labels found to put in legend.\n"
     ]
    },
    {
     "data": {
      "image/png": "[encoded data removed]",
      "text/plain": [
       "<Figure size 432x288 with 1 Axes>"
      ]
     },
     "metadata": {
      "needs_background": "light"
     },
     "output_type": "display_data"
    }
   ],
   "source": [
    "plt.plot(income_mean, children_per_woman_mean)\n",
    "plot('Mean Income (International Dollars)', 'Mean Fertility Rate','Mean Fertility Rate vs. Mean Income')"
   ]
  },
  {
   "cell_type": "code",
   "execution_count": 63,
   "id": "da1e0ac7",
   "metadata": {},
   "outputs": [
    {
     "name": "stderr",
     "output_type": "stream",
     "text": [
      "No handles with labels found to put in legend.\n"
     ]
    },
    {
     "data": {
      "image/png": "[encoded data removed]",
      "text/plain": [
       "<Figure size 432x288 with 1 Axes>"
      ]
     },
     "metadata": {
      "needs_background": "light"
     },
     "output_type": "display_data"
    }
   ],
   "source": [
    "plt.plot(income_mean, life_expectancy_mean)\n",
    "plot('Mean Income (International Dollars)', 'Life Expectancy','Life Expectancy vs. Mean Income')"
   ]
  },
  {
   "cell_type": "markdown",
   "id": "d63aecbf",
   "metadata": {},
   "source": [
    "Observations:\n",
    "\n",
    "It appears there is very little correlation between mean life expectancy and mean income.\n",
    "However there is a huge spike in income after the 2000s."
   ]
  },
  {
   "cell_type": "markdown",
   "id": "04e34492",
   "metadata": {},
   "source": [
    "SUMMARY OF SECTION ONE:\n",
    "\n",
    "Conclusions.\n",
    "1. There is very little apparent correlation between mean global income and the other two variables investigated, mean global life expectancy and mean fertility rate. This was clear from the plots. \n",
    "\n",
    "2. There is a very strong correlation between fertility rate and global life expectancy once the life expectancy exceeds 60 years. This suggests social behaviour drastically changes once a society reaches the level of prosperity required for most members to survive beyond 60. The correlation coefficient was calculated and found to be <-.90, which is a very strong negative correlation.\n",
    "\n",
    "Limitations of the analysis in Section One:\n",
    "\n",
    "1. Neither the mean nor the standard deviation are representative statistics of the variables. The skewedness of the distributions of all the variables shows this. \n",
    "2. The relationship between global life expectancy and fertility rate is only well-established for high life expectancies - for lower, no relationship has been established.\n",
    "3. The reliability of the data is skewed in favour of wealthier nations. It is also skewed in favour of the more recent data. This means that trends observed may not actually hold because the sample is biased.\n",
    "4. In particular, income data may be unreliable as it is adjusted for inflation. It is difficult to adjust for inflation when the data was collected two hundred years ago.\n",
    "5. The analysis could be more statistical. \n",
    "\n",
    "Regarding limitation 3, an improvement to the analysis would be to choose five Third World nations, five Second World and five First World nations, and compare the distributions over time."
   ]
  },
  {
   "cell_type": "markdown",
   "id": "7396cdb2",
   "metadata": {},
   "source": [
    "SECTION TWO:\n",
    "\n",
    "Investigating three indicators by country\n",
    "\n",
    "In this section the following question is investigated:\n",
    "\n",
    "1. Is primary school completion a good predictor of adult literacy?\n",
    "\n",
    "For this analysis data was used from wwww.gapminder.org, cc-by license.\n",
    "\n",
    "Primary school completion source: https://data.worldbank.org/indicator/SE.PRM.CMPT.ZS\n",
    "Literacy rate source: Gapminder.org"
   ]
  },
  {
   "cell_type": "code",
   "execution_count": 64,
   "id": "311490db",
   "metadata": {},
   "outputs": [],
   "source": [
    "#Importing the data\n",
    "\n",
    "primary_completion = pd.read_csv('C:/Users/joelh/Downloads/Primary Completion Rate.csv')"
   ]
  },
  {
   "cell_type": "code",
   "execution_count": 65,
   "id": "6b4e14c3",
   "metadata": {},
   "outputs": [],
   "source": [
    "literacy_rate_adult = pd.read_csv('C:/Users/joelh/Downloads/literacy_rate_adult.csv')"
   ]
  },
  {
   "cell_type": "code",
   "execution_count": 66,
   "id": "9aeea25b",
   "metadata": {},
   "outputs": [
    {
     "data": {
      "text/html": [
       "<div>\n",
       "<style scoped>\n",
       "    .dataframe tbody tr th:only-of-type {\n",
       "        vertical-align: middle;\n",
       "    }\n",
       "\n",
       "    .dataframe tbody tr th {\n",
       "        vertical-align: top;\n",
       "    }\n",
       "\n",
       "    .dataframe thead th {\n",
       "        text-align: right;\n",
       "    }\n",
       "</style>\n",
       "<table border=\"1\" class=\"dataframe\">\n",
       "  <thead>\n",
       "    <tr style=\"text-align: right;\">\n",
       "      <th></th>\n",
       "      <th>country</th>\n",
       "      <th>1970</th>\n",
       "      <th>1971</th>\n",
       "      <th>1972</th>\n",
       "      <th>1973</th>\n",
       "      <th>1974</th>\n",
       "      <th>1975</th>\n",
       "      <th>1976</th>\n",
       "      <th>1977</th>\n",
       "      <th>1978</th>\n",
       "      <th>...</th>\n",
       "      <th>2011</th>\n",
       "      <th>2012</th>\n",
       "      <th>2013</th>\n",
       "      <th>2014</th>\n",
       "      <th>2015</th>\n",
       "      <th>2016</th>\n",
       "      <th>2017</th>\n",
       "      <th>2018</th>\n",
       "      <th>2019</th>\n",
       "      <th>2020</th>\n",
       "    </tr>\n",
       "  </thead>\n",
       "  <tbody>\n",
       "    <tr>\n",
       "      <th>0</th>\n",
       "      <td>Aruba</td>\n",
       "      <td>NaN</td>\n",
       "      <td>NaN</td>\n",
       "      <td>NaN</td>\n",
       "      <td>NaN</td>\n",
       "      <td>NaN</td>\n",
       "      <td>NaN</td>\n",
       "      <td>NaN</td>\n",
       "      <td>NaN</td>\n",
       "      <td>NaN</td>\n",
       "      <td>...</td>\n",
       "      <td>NaN</td>\n",
       "      <td>NaN</td>\n",
       "      <td>96.6</td>\n",
       "      <td>101.0</td>\n",
       "      <td>NaN</td>\n",
       "      <td>NaN</td>\n",
       "      <td>NaN</td>\n",
       "      <td>NaN</td>\n",
       "      <td>NaN</td>\n",
       "      <td>NaN</td>\n",
       "    </tr>\n",
       "    <tr>\n",
       "      <th>1</th>\n",
       "      <td>Afghanistan</td>\n",
       "      <td>NaN</td>\n",
       "      <td>NaN</td>\n",
       "      <td>NaN</td>\n",
       "      <td>NaN</td>\n",
       "      <td>16.7</td>\n",
       "      <td>NaN</td>\n",
       "      <td>NaN</td>\n",
       "      <td>17.9</td>\n",
       "      <td>19.7</td>\n",
       "      <td>...</td>\n",
       "      <td>NaN</td>\n",
       "      <td>NaN</td>\n",
       "      <td>NaN</td>\n",
       "      <td>NaN</td>\n",
       "      <td>NaN</td>\n",
       "      <td>80.5</td>\n",
       "      <td>84.4</td>\n",
       "      <td>85.6</td>\n",
       "      <td>NaN</td>\n",
       "      <td>NaN</td>\n",
       "    </tr>\n",
       "    <tr>\n",
       "      <th>2</th>\n",
       "      <td>Angola</td>\n",
       "      <td>NaN</td>\n",
       "      <td>NaN</td>\n",
       "      <td>NaN</td>\n",
       "      <td>NaN</td>\n",
       "      <td>NaN</td>\n",
       "      <td>NaN</td>\n",
       "      <td>NaN</td>\n",
       "      <td>NaN</td>\n",
       "      <td>NaN</td>\n",
       "      <td>...</td>\n",
       "      <td>46.2</td>\n",
       "      <td>NaN</td>\n",
       "      <td>NaN</td>\n",
       "      <td>NaN</td>\n",
       "      <td>NaN</td>\n",
       "      <td>NaN</td>\n",
       "      <td>NaN</td>\n",
       "      <td>NaN</td>\n",
       "      <td>NaN</td>\n",
       "      <td>NaN</td>\n",
       "    </tr>\n",
       "    <tr>\n",
       "      <th>3</th>\n",
       "      <td>Albania</td>\n",
       "      <td>NaN</td>\n",
       "      <td>NaN</td>\n",
       "      <td>NaN</td>\n",
       "      <td>NaN</td>\n",
       "      <td>NaN</td>\n",
       "      <td>NaN</td>\n",
       "      <td>NaN</td>\n",
       "      <td>NaN</td>\n",
       "      <td>NaN</td>\n",
       "      <td>...</td>\n",
       "      <td>93.0</td>\n",
       "      <td>98.7</td>\n",
       "      <td>89.5</td>\n",
       "      <td>101.0</td>\n",
       "      <td>98.9</td>\n",
       "      <td>99.9</td>\n",
       "      <td>102.0</td>\n",
       "      <td>102.0</td>\n",
       "      <td>103.0</td>\n",
       "      <td>NaN</td>\n",
       "    </tr>\n",
       "    <tr>\n",
       "      <th>4</th>\n",
       "      <td>United Arab Emirates</td>\n",
       "      <td>NaN</td>\n",
       "      <td>NaN</td>\n",
       "      <td>NaN</td>\n",
       "      <td>NaN</td>\n",
       "      <td>39.5</td>\n",
       "      <td>41.7</td>\n",
       "      <td>49.5</td>\n",
       "      <td>56.8</td>\n",
       "      <td>60.7</td>\n",
       "      <td>...</td>\n",
       "      <td>NaN</td>\n",
       "      <td>93.9</td>\n",
       "      <td>95.7</td>\n",
       "      <td>99.1</td>\n",
       "      <td>104.0</td>\n",
       "      <td>NaN</td>\n",
       "      <td>NaN</td>\n",
       "      <td>NaN</td>\n",
       "      <td>NaN</td>\n",
       "      <td>NaN</td>\n",
       "    </tr>\n",
       "  </tbody>\n",
       "</table>\n",
       "<p>5 rows × 52 columns</p>\n",
       "</div>"
      ],
      "text/plain": [
       "                country  1970  1971  1972  1973  1974  1975  1976  1977  1978  \\\n",
       "0                 Aruba   NaN   NaN   NaN   NaN   NaN   NaN   NaN   NaN   NaN   \n",
       "1           Afghanistan   NaN   NaN   NaN   NaN  16.7   NaN   NaN  17.9  19.7   \n",
       "2                Angola   NaN   NaN   NaN   NaN   NaN   NaN   NaN   NaN   NaN   \n",
       "3               Albania   NaN   NaN   NaN   NaN   NaN   NaN   NaN   NaN   NaN   \n",
       "4  United Arab Emirates   NaN   NaN   NaN   NaN  39.5  41.7  49.5  56.8  60.7   \n",
       "\n",
       "   ...  2011  2012  2013   2014   2015  2016   2017   2018   2019  2020  \n",
       "0  ...   NaN   NaN  96.6  101.0    NaN   NaN    NaN    NaN    NaN   NaN  \n",
       "1  ...   NaN   NaN   NaN    NaN    NaN  80.5   84.4   85.6    NaN   NaN  \n",
       "2  ...  46.2   NaN   NaN    NaN    NaN   NaN    NaN    NaN    NaN   NaN  \n",
       "3  ...  93.0  98.7  89.5  101.0   98.9  99.9  102.0  102.0  103.0   NaN  \n",
       "4  ...   NaN  93.9  95.7   99.1  104.0   NaN    NaN    NaN    NaN   NaN  \n",
       "\n",
       "[5 rows x 52 columns]"
      ]
     },
     "execution_count": 66,
     "metadata": {},
     "output_type": "execute_result"
    }
   ],
   "source": [
    "primary_completion.head()"
   ]
  },
  {
   "cell_type": "code",
   "execution_count": 67,
   "id": "81b25868",
   "metadata": {},
   "outputs": [
    {
     "data": {
      "text/plain": [
       "66"
      ]
     },
     "execution_count": 67,
     "metadata": {},
     "output_type": "execute_result"
    }
   ],
   "source": [
    "primary_completion['2011'].isnull().sum()"
   ]
  },
  {
   "cell_type": "code",
   "execution_count": 68,
   "id": "69bbacbf",
   "metadata": {},
   "outputs": [
    {
     "data": {
      "text/plain": [
       "0        NaN\n",
       "1        NaN\n",
       "2       46.2\n",
       "3       93.0\n",
       "4        NaN\n",
       "       ...  \n",
       "191    106.0\n",
       "192      NaN\n",
       "193      NaN\n",
       "194      NaN\n",
       "195      NaN\n",
       "Name: 2011, Length: 196, dtype: float64"
      ]
     },
     "execution_count": 68,
     "metadata": {},
     "output_type": "execute_result"
    }
   ],
   "source": [
    "primary_completion['2011']"
   ]
  },
  {
   "cell_type": "markdown",
   "id": "e07f9ece",
   "metadata": {},
   "source": [
    "This shows there are too many nan values for an analysis of one year to be worthwhile.\n",
    "\n",
    "Instead the mean was calculated for each country:"
   ]
  },
  {
   "cell_type": "code",
   "execution_count": 69,
   "id": "7d7d5844",
   "metadata": {},
   "outputs": [
    {
     "data": {
      "text/plain": [
       "0"
      ]
     },
     "execution_count": 69,
     "metadata": {},
     "output_type": "execute_result"
    }
   ],
   "source": [
    "primary_mean = primary_completion.mean(axis=1)\n",
    "primary_mean.isnull().sum()"
   ]
  },
  {
   "cell_type": "markdown",
   "id": "32a145cb",
   "metadata": {},
   "source": [
    "As can be seen, there are no nan values in this series now.\n",
    "\n",
    "Examining the literacy rate:"
   ]
  },
  {
   "cell_type": "code",
   "execution_count": 70,
   "id": "4258f5d1",
   "metadata": {},
   "outputs": [
    {
     "data": {
      "text/html": [
       "<div>\n",
       "<style scoped>\n",
       "    .dataframe tbody tr th:only-of-type {\n",
       "        vertical-align: middle;\n",
       "    }\n",
       "\n",
       "    .dataframe tbody tr th {\n",
       "        vertical-align: top;\n",
       "    }\n",
       "\n",
       "    .dataframe thead th {\n",
       "        text-align: right;\n",
       "    }\n",
       "</style>\n",
       "<table border=\"1\" class=\"dataframe\">\n",
       "  <thead>\n",
       "    <tr style=\"text-align: right;\">\n",
       "      <th></th>\n",
       "      <th>country</th>\n",
       "      <th>1975</th>\n",
       "      <th>1976</th>\n",
       "      <th>1977</th>\n",
       "      <th>1978</th>\n",
       "      <th>1979</th>\n",
       "      <th>1980</th>\n",
       "      <th>1981</th>\n",
       "      <th>1982</th>\n",
       "      <th>1983</th>\n",
       "      <th>...</th>\n",
       "      <th>2002</th>\n",
       "      <th>2003</th>\n",
       "      <th>2004</th>\n",
       "      <th>2005</th>\n",
       "      <th>2006</th>\n",
       "      <th>2007</th>\n",
       "      <th>2008</th>\n",
       "      <th>2009</th>\n",
       "      <th>2010</th>\n",
       "      <th>2011</th>\n",
       "    </tr>\n",
       "  </thead>\n",
       "  <tbody>\n",
       "    <tr>\n",
       "      <th>0</th>\n",
       "      <td>Aruba</td>\n",
       "      <td>NaN</td>\n",
       "      <td>NaN</td>\n",
       "      <td>NaN</td>\n",
       "      <td>NaN</td>\n",
       "      <td>NaN</td>\n",
       "      <td>NaN</td>\n",
       "      <td>NaN</td>\n",
       "      <td>NaN</td>\n",
       "      <td>NaN</td>\n",
       "      <td>...</td>\n",
       "      <td>NaN</td>\n",
       "      <td>NaN</td>\n",
       "      <td>NaN</td>\n",
       "      <td>NaN</td>\n",
       "      <td>NaN</td>\n",
       "      <td>NaN</td>\n",
       "      <td>NaN</td>\n",
       "      <td>NaN</td>\n",
       "      <td>96.8</td>\n",
       "      <td>NaN</td>\n",
       "    </tr>\n",
       "    <tr>\n",
       "      <th>1</th>\n",
       "      <td>Afghanistan</td>\n",
       "      <td>NaN</td>\n",
       "      <td>NaN</td>\n",
       "      <td>NaN</td>\n",
       "      <td>NaN</td>\n",
       "      <td>18.2</td>\n",
       "      <td>NaN</td>\n",
       "      <td>NaN</td>\n",
       "      <td>NaN</td>\n",
       "      <td>NaN</td>\n",
       "      <td>...</td>\n",
       "      <td>NaN</td>\n",
       "      <td>NaN</td>\n",
       "      <td>NaN</td>\n",
       "      <td>NaN</td>\n",
       "      <td>NaN</td>\n",
       "      <td>NaN</td>\n",
       "      <td>NaN</td>\n",
       "      <td>NaN</td>\n",
       "      <td>NaN</td>\n",
       "      <td>39.0</td>\n",
       "    </tr>\n",
       "    <tr>\n",
       "      <th>2</th>\n",
       "      <td>Angola</td>\n",
       "      <td>NaN</td>\n",
       "      <td>NaN</td>\n",
       "      <td>NaN</td>\n",
       "      <td>NaN</td>\n",
       "      <td>NaN</td>\n",
       "      <td>NaN</td>\n",
       "      <td>NaN</td>\n",
       "      <td>NaN</td>\n",
       "      <td>NaN</td>\n",
       "      <td>...</td>\n",
       "      <td>NaN</td>\n",
       "      <td>NaN</td>\n",
       "      <td>NaN</td>\n",
       "      <td>NaN</td>\n",
       "      <td>NaN</td>\n",
       "      <td>NaN</td>\n",
       "      <td>NaN</td>\n",
       "      <td>NaN</td>\n",
       "      <td>NaN</td>\n",
       "      <td>70.4</td>\n",
       "    </tr>\n",
       "    <tr>\n",
       "      <th>3</th>\n",
       "      <td>Anguilla</td>\n",
       "      <td>NaN</td>\n",
       "      <td>NaN</td>\n",
       "      <td>NaN</td>\n",
       "      <td>NaN</td>\n",
       "      <td>NaN</td>\n",
       "      <td>NaN</td>\n",
       "      <td>NaN</td>\n",
       "      <td>NaN</td>\n",
       "      <td>NaN</td>\n",
       "      <td>...</td>\n",
       "      <td>NaN</td>\n",
       "      <td>NaN</td>\n",
       "      <td>NaN</td>\n",
       "      <td>NaN</td>\n",
       "      <td>NaN</td>\n",
       "      <td>NaN</td>\n",
       "      <td>NaN</td>\n",
       "      <td>NaN</td>\n",
       "      <td>NaN</td>\n",
       "      <td>NaN</td>\n",
       "    </tr>\n",
       "    <tr>\n",
       "      <th>4</th>\n",
       "      <td>Albania</td>\n",
       "      <td>NaN</td>\n",
       "      <td>NaN</td>\n",
       "      <td>NaN</td>\n",
       "      <td>NaN</td>\n",
       "      <td>NaN</td>\n",
       "      <td>NaN</td>\n",
       "      <td>NaN</td>\n",
       "      <td>NaN</td>\n",
       "      <td>NaN</td>\n",
       "      <td>...</td>\n",
       "      <td>NaN</td>\n",
       "      <td>NaN</td>\n",
       "      <td>NaN</td>\n",
       "      <td>NaN</td>\n",
       "      <td>NaN</td>\n",
       "      <td>NaN</td>\n",
       "      <td>95.9</td>\n",
       "      <td>NaN</td>\n",
       "      <td>NaN</td>\n",
       "      <td>96.8</td>\n",
       "    </tr>\n",
       "  </tbody>\n",
       "</table>\n",
       "<p>5 rows × 38 columns</p>\n",
       "</div>"
      ],
      "text/plain": [
       "       country  1975  1976  1977  1978  1979  1980  1981  1982  1983  ...  \\\n",
       "0        Aruba   NaN   NaN   NaN   NaN   NaN   NaN   NaN   NaN   NaN  ...   \n",
       "1  Afghanistan   NaN   NaN   NaN   NaN  18.2   NaN   NaN   NaN   NaN  ...   \n",
       "2       Angola   NaN   NaN   NaN   NaN   NaN   NaN   NaN   NaN   NaN  ...   \n",
       "3     Anguilla   NaN   NaN   NaN   NaN   NaN   NaN   NaN   NaN   NaN  ...   \n",
       "4      Albania   NaN   NaN   NaN   NaN   NaN   NaN   NaN   NaN   NaN  ...   \n",
       "\n",
       "   2002  2003  2004  2005  2006  2007  2008  2009  2010  2011  \n",
       "0   NaN   NaN   NaN   NaN   NaN   NaN   NaN   NaN  96.8   NaN  \n",
       "1   NaN   NaN   NaN   NaN   NaN   NaN   NaN   NaN   NaN  39.0  \n",
       "2   NaN   NaN   NaN   NaN   NaN   NaN   NaN   NaN   NaN  70.4  \n",
       "3   NaN   NaN   NaN   NaN   NaN   NaN   NaN   NaN   NaN   NaN  \n",
       "4   NaN   NaN   NaN   NaN   NaN   NaN  95.9   NaN   NaN  96.8  \n",
       "\n",
       "[5 rows x 38 columns]"
      ]
     },
     "execution_count": 70,
     "metadata": {},
     "output_type": "execute_result"
    }
   ],
   "source": [
    "literacy_rate_adult.head()"
   ]
  },
  {
   "cell_type": "code",
   "execution_count": 71,
   "id": "2e9d61cd",
   "metadata": {},
   "outputs": [
    {
     "data": {
      "text/plain": [
       "0      97.050000\n",
       "1      28.600000\n",
       "2      68.900000\n",
       "3      95.400000\n",
       "4      97.133333\n",
       "         ...    \n",
       "151    98.400000\n",
       "152    52.400000\n",
       "153    85.075000\n",
       "154    65.900000\n",
       "155    81.633333\n",
       "Length: 156, dtype: float64"
      ]
     },
     "execution_count": 71,
     "metadata": {},
     "output_type": "execute_result"
    }
   ],
   "source": [
    "literacy_mean = literacy_rate_adult.mean(axis=1)\n",
    "literacy_mean"
   ]
  },
  {
   "cell_type": "code",
   "execution_count": 72,
   "id": "93c2c6af",
   "metadata": {},
   "outputs": [],
   "source": [
    "countriesliteracy = literacy_rate_adult['country']"
   ]
  },
  {
   "cell_type": "code",
   "execution_count": 73,
   "id": "4b4ac070",
   "metadata": {},
   "outputs": [],
   "source": [
    "literacy_rate_adult.insert(loc=0,column='Mean Literacy',value=literacy_mean)"
   ]
  },
  {
   "cell_type": "code",
   "execution_count": 74,
   "id": "4b5319bf",
   "metadata": {},
   "outputs": [
    {
     "data": {
      "text/html": [
       "<div>\n",
       "<style scoped>\n",
       "    .dataframe tbody tr th:only-of-type {\n",
       "        vertical-align: middle;\n",
       "    }\n",
       "\n",
       "    .dataframe tbody tr th {\n",
       "        vertical-align: top;\n",
       "    }\n",
       "\n",
       "    .dataframe thead th {\n",
       "        text-align: right;\n",
       "    }\n",
       "</style>\n",
       "<table border=\"1\" class=\"dataframe\">\n",
       "  <thead>\n",
       "    <tr style=\"text-align: right;\">\n",
       "      <th></th>\n",
       "      <th>country</th>\n",
       "      <th>Mean Literacy</th>\n",
       "    </tr>\n",
       "  </thead>\n",
       "  <tbody>\n",
       "    <tr>\n",
       "      <th>0</th>\n",
       "      <td>Aruba</td>\n",
       "      <td>97.050000</td>\n",
       "    </tr>\n",
       "    <tr>\n",
       "      <th>1</th>\n",
       "      <td>Afghanistan</td>\n",
       "      <td>28.600000</td>\n",
       "    </tr>\n",
       "    <tr>\n",
       "      <th>2</th>\n",
       "      <td>Angola</td>\n",
       "      <td>68.900000</td>\n",
       "    </tr>\n",
       "    <tr>\n",
       "      <th>3</th>\n",
       "      <td>Anguilla</td>\n",
       "      <td>95.400000</td>\n",
       "    </tr>\n",
       "    <tr>\n",
       "      <th>4</th>\n",
       "      <td>Albania</td>\n",
       "      <td>97.133333</td>\n",
       "    </tr>\n",
       "  </tbody>\n",
       "</table>\n",
       "</div>"
      ],
      "text/plain": [
       "       country  Mean Literacy\n",
       "0        Aruba      97.050000\n",
       "1  Afghanistan      28.600000\n",
       "2       Angola      68.900000\n",
       "3     Anguilla      95.400000\n",
       "4      Albania      97.133333"
      ]
     },
     "execution_count": 74,
     "metadata": {},
     "output_type": "execute_result"
    }
   ],
   "source": [
    "countriesliteracy = literacy_rate_adult.loc[:,['country','Mean Literacy']]\n",
    "countriesliteracy.head()"
   ]
  },
  {
   "cell_type": "code",
   "execution_count": 75,
   "id": "45b16970",
   "metadata": {},
   "outputs": [
    {
     "data": {
      "text/html": [
       "<div>\n",
       "<style scoped>\n",
       "    .dataframe tbody tr th:only-of-type {\n",
       "        vertical-align: middle;\n",
       "    }\n",
       "\n",
       "    .dataframe tbody tr th {\n",
       "        vertical-align: top;\n",
       "    }\n",
       "\n",
       "    .dataframe thead th {\n",
       "        text-align: right;\n",
       "    }\n",
       "</style>\n",
       "<table border=\"1\" class=\"dataframe\">\n",
       "  <thead>\n",
       "    <tr style=\"text-align: right;\">\n",
       "      <th></th>\n",
       "      <th>Mean Primary Completion</th>\n",
       "      <th>country</th>\n",
       "      <th>1970</th>\n",
       "      <th>1971</th>\n",
       "      <th>1972</th>\n",
       "      <th>1973</th>\n",
       "      <th>1974</th>\n",
       "      <th>1975</th>\n",
       "      <th>1976</th>\n",
       "      <th>1977</th>\n",
       "      <th>...</th>\n",
       "      <th>2011</th>\n",
       "      <th>2012</th>\n",
       "      <th>2013</th>\n",
       "      <th>2014</th>\n",
       "      <th>2015</th>\n",
       "      <th>2016</th>\n",
       "      <th>2017</th>\n",
       "      <th>2018</th>\n",
       "      <th>2019</th>\n",
       "      <th>2020</th>\n",
       "    </tr>\n",
       "  </thead>\n",
       "  <tbody>\n",
       "    <tr>\n",
       "      <th>0</th>\n",
       "      <td>94.985714</td>\n",
       "      <td>Aruba</td>\n",
       "      <td>NaN</td>\n",
       "      <td>NaN</td>\n",
       "      <td>NaN</td>\n",
       "      <td>NaN</td>\n",
       "      <td>NaN</td>\n",
       "      <td>NaN</td>\n",
       "      <td>NaN</td>\n",
       "      <td>NaN</td>\n",
       "      <td>...</td>\n",
       "      <td>NaN</td>\n",
       "      <td>NaN</td>\n",
       "      <td>96.6</td>\n",
       "      <td>101.0</td>\n",
       "      <td>NaN</td>\n",
       "      <td>NaN</td>\n",
       "      <td>NaN</td>\n",
       "      <td>NaN</td>\n",
       "      <td>NaN</td>\n",
       "      <td>NaN</td>\n",
       "    </tr>\n",
       "    <tr>\n",
       "      <th>1</th>\n",
       "      <td>38.909091</td>\n",
       "      <td>Afghanistan</td>\n",
       "      <td>NaN</td>\n",
       "      <td>NaN</td>\n",
       "      <td>NaN</td>\n",
       "      <td>NaN</td>\n",
       "      <td>16.7</td>\n",
       "      <td>NaN</td>\n",
       "      <td>NaN</td>\n",
       "      <td>17.9</td>\n",
       "      <td>...</td>\n",
       "      <td>NaN</td>\n",
       "      <td>NaN</td>\n",
       "      <td>NaN</td>\n",
       "      <td>NaN</td>\n",
       "      <td>NaN</td>\n",
       "      <td>80.5</td>\n",
       "      <td>84.4</td>\n",
       "      <td>85.6</td>\n",
       "      <td>NaN</td>\n",
       "      <td>NaN</td>\n",
       "    </tr>\n",
       "    <tr>\n",
       "      <th>2</th>\n",
       "      <td>39.042857</td>\n",
       "      <td>Angola</td>\n",
       "      <td>NaN</td>\n",
       "      <td>NaN</td>\n",
       "      <td>NaN</td>\n",
       "      <td>NaN</td>\n",
       "      <td>NaN</td>\n",
       "      <td>NaN</td>\n",
       "      <td>NaN</td>\n",
       "      <td>NaN</td>\n",
       "      <td>...</td>\n",
       "      <td>46.2</td>\n",
       "      <td>NaN</td>\n",
       "      <td>NaN</td>\n",
       "      <td>NaN</td>\n",
       "      <td>NaN</td>\n",
       "      <td>NaN</td>\n",
       "      <td>NaN</td>\n",
       "      <td>NaN</td>\n",
       "      <td>NaN</td>\n",
       "      <td>NaN</td>\n",
       "    </tr>\n",
       "    <tr>\n",
       "      <th>3</th>\n",
       "      <td>96.050000</td>\n",
       "      <td>Albania</td>\n",
       "      <td>NaN</td>\n",
       "      <td>NaN</td>\n",
       "      <td>NaN</td>\n",
       "      <td>NaN</td>\n",
       "      <td>NaN</td>\n",
       "      <td>NaN</td>\n",
       "      <td>NaN</td>\n",
       "      <td>NaN</td>\n",
       "      <td>...</td>\n",
       "      <td>93.0</td>\n",
       "      <td>98.7</td>\n",
       "      <td>89.5</td>\n",
       "      <td>101.0</td>\n",
       "      <td>98.9</td>\n",
       "      <td>99.9</td>\n",
       "      <td>102.0</td>\n",
       "      <td>102.0</td>\n",
       "      <td>103.0</td>\n",
       "      <td>NaN</td>\n",
       "    </tr>\n",
       "    <tr>\n",
       "      <th>4</th>\n",
       "      <td>79.688235</td>\n",
       "      <td>United Arab Emirates</td>\n",
       "      <td>NaN</td>\n",
       "      <td>NaN</td>\n",
       "      <td>NaN</td>\n",
       "      <td>NaN</td>\n",
       "      <td>39.5</td>\n",
       "      <td>41.7</td>\n",
       "      <td>49.5</td>\n",
       "      <td>56.8</td>\n",
       "      <td>...</td>\n",
       "      <td>NaN</td>\n",
       "      <td>93.9</td>\n",
       "      <td>95.7</td>\n",
       "      <td>99.1</td>\n",
       "      <td>104.0</td>\n",
       "      <td>NaN</td>\n",
       "      <td>NaN</td>\n",
       "      <td>NaN</td>\n",
       "      <td>NaN</td>\n",
       "      <td>NaN</td>\n",
       "    </tr>\n",
       "  </tbody>\n",
       "</table>\n",
       "<p>5 rows × 53 columns</p>\n",
       "</div>"
      ],
      "text/plain": [
       "   Mean Primary Completion               country  1970  1971  1972  1973  \\\n",
       "0                94.985714                 Aruba   NaN   NaN   NaN   NaN   \n",
       "1                38.909091           Afghanistan   NaN   NaN   NaN   NaN   \n",
       "2                39.042857                Angola   NaN   NaN   NaN   NaN   \n",
       "3                96.050000               Albania   NaN   NaN   NaN   NaN   \n",
       "4                79.688235  United Arab Emirates   NaN   NaN   NaN   NaN   \n",
       "\n",
       "   1974  1975  1976  1977  ...  2011  2012  2013   2014   2015  2016   2017  \\\n",
       "0   NaN   NaN   NaN   NaN  ...   NaN   NaN  96.6  101.0    NaN   NaN    NaN   \n",
       "1  16.7   NaN   NaN  17.9  ...   NaN   NaN   NaN    NaN    NaN  80.5   84.4   \n",
       "2   NaN   NaN   NaN   NaN  ...  46.2   NaN   NaN    NaN    NaN   NaN    NaN   \n",
       "3   NaN   NaN   NaN   NaN  ...  93.0  98.7  89.5  101.0   98.9  99.9  102.0   \n",
       "4  39.5  41.7  49.5  56.8  ...   NaN  93.9  95.7   99.1  104.0   NaN    NaN   \n",
       "\n",
       "    2018   2019  2020  \n",
       "0    NaN    NaN   NaN  \n",
       "1   85.6    NaN   NaN  \n",
       "2    NaN    NaN   NaN  \n",
       "3  102.0  103.0   NaN  \n",
       "4    NaN    NaN   NaN  \n",
       "\n",
       "[5 rows x 53 columns]"
      ]
     },
     "execution_count": 75,
     "metadata": {},
     "output_type": "execute_result"
    }
   ],
   "source": [
    "primary_completion.insert(loc=0,column='Mean Primary Completion',value=primary_mean)\n",
    "primary_completion.head()"
   ]
  },
  {
   "cell_type": "code",
   "execution_count": 76,
   "id": "8cd8fe5f",
   "metadata": {},
   "outputs": [
    {
     "data": {
      "text/html": [
       "<div>\n",
       "<style scoped>\n",
       "    .dataframe tbody tr th:only-of-type {\n",
       "        vertical-align: middle;\n",
       "    }\n",
       "\n",
       "    .dataframe tbody tr th {\n",
       "        vertical-align: top;\n",
       "    }\n",
       "\n",
       "    .dataframe thead th {\n",
       "        text-align: right;\n",
       "    }\n",
       "</style>\n",
       "<table border=\"1\" class=\"dataframe\">\n",
       "  <thead>\n",
       "    <tr style=\"text-align: right;\">\n",
       "      <th></th>\n",
       "      <th>country</th>\n",
       "      <th>Mean Primary Completion</th>\n",
       "    </tr>\n",
       "  </thead>\n",
       "  <tbody>\n",
       "    <tr>\n",
       "      <th>0</th>\n",
       "      <td>Aruba</td>\n",
       "      <td>94.985714</td>\n",
       "    </tr>\n",
       "    <tr>\n",
       "      <th>1</th>\n",
       "      <td>Afghanistan</td>\n",
       "      <td>38.909091</td>\n",
       "    </tr>\n",
       "    <tr>\n",
       "      <th>2</th>\n",
       "      <td>Angola</td>\n",
       "      <td>39.042857</td>\n",
       "    </tr>\n",
       "    <tr>\n",
       "      <th>3</th>\n",
       "      <td>Albania</td>\n",
       "      <td>96.050000</td>\n",
       "    </tr>\n",
       "    <tr>\n",
       "      <th>4</th>\n",
       "      <td>United Arab Emirates</td>\n",
       "      <td>79.688235</td>\n",
       "    </tr>\n",
       "  </tbody>\n",
       "</table>\n",
       "</div>"
      ],
      "text/plain": [
       "                country  Mean Primary Completion\n",
       "0                 Aruba                94.985714\n",
       "1           Afghanistan                38.909091\n",
       "2                Angola                39.042857\n",
       "3               Albania                96.050000\n",
       "4  United Arab Emirates                79.688235"
      ]
     },
     "execution_count": 76,
     "metadata": {},
     "output_type": "execute_result"
    }
   ],
   "source": [
    "countriesprimary = primary_completion.loc[:,['country','Mean Primary Completion']]\n",
    "countriesprimary.head()"
   ]
  },
  {
   "cell_type": "markdown",
   "id": "eedbec78",
   "metadata": {},
   "source": [
    "Now the two dataframes must be joined by country:"
   ]
  },
  {
   "cell_type": "code",
   "execution_count": 77,
   "id": "6e8aa56f",
   "metadata": {},
   "outputs": [
    {
     "data": {
      "text/html": [
       "<div>\n",
       "<style scoped>\n",
       "    .dataframe tbody tr th:only-of-type {\n",
       "        vertical-align: middle;\n",
       "    }\n",
       "\n",
       "    .dataframe tbody tr th {\n",
       "        vertical-align: top;\n",
       "    }\n",
       "\n",
       "    .dataframe thead th {\n",
       "        text-align: right;\n",
       "    }\n",
       "</style>\n",
       "<table border=\"1\" class=\"dataframe\">\n",
       "  <thead>\n",
       "    <tr style=\"text-align: right;\">\n",
       "      <th></th>\n",
       "      <th>country</th>\n",
       "      <th>Mean Primary Completion</th>\n",
       "      <th>Mean Literacy</th>\n",
       "    </tr>\n",
       "  </thead>\n",
       "  <tbody>\n",
       "    <tr>\n",
       "      <th>0</th>\n",
       "      <td>Aruba</td>\n",
       "      <td>94.985714</td>\n",
       "      <td>97.050000</td>\n",
       "    </tr>\n",
       "    <tr>\n",
       "      <th>1</th>\n",
       "      <td>Afghanistan</td>\n",
       "      <td>38.909091</td>\n",
       "      <td>28.600000</td>\n",
       "    </tr>\n",
       "    <tr>\n",
       "      <th>2</th>\n",
       "      <td>Angola</td>\n",
       "      <td>39.042857</td>\n",
       "      <td>68.900000</td>\n",
       "    </tr>\n",
       "    <tr>\n",
       "      <th>3</th>\n",
       "      <td>Albania</td>\n",
       "      <td>96.050000</td>\n",
       "      <td>97.133333</td>\n",
       "    </tr>\n",
       "    <tr>\n",
       "      <th>4</th>\n",
       "      <td>United Arab Emirates</td>\n",
       "      <td>79.688235</td>\n",
       "      <td>71.566667</td>\n",
       "    </tr>\n",
       "  </tbody>\n",
       "</table>\n",
       "</div>"
      ],
      "text/plain": [
       "                country  Mean Primary Completion  Mean Literacy\n",
       "0                 Aruba                94.985714      97.050000\n",
       "1           Afghanistan                38.909091      28.600000\n",
       "2                Angola                39.042857      68.900000\n",
       "3               Albania                96.050000      97.133333\n",
       "4  United Arab Emirates                79.688235      71.566667"
      ]
     },
     "execution_count": 77,
     "metadata": {},
     "output_type": "execute_result"
    }
   ],
   "source": [
    "primary_and_literacy = countriesprimary.merge(countriesliteracy)\n",
    "primary_and_literacy.head()"
   ]
  },
  {
   "cell_type": "code",
   "execution_count": 78,
   "id": "35415f7e",
   "metadata": {},
   "outputs": [],
   "source": [
    "mean_primary = primary_and_literacy.loc[:,'Mean Primary Completion'].values\n",
    "mean_literacy = primary_and_literacy.loc[:, 'Mean Literacy'].values"
   ]
  },
  {
   "cell_type": "code",
   "execution_count": 79,
   "id": "2a6324f7",
   "metadata": {},
   "outputs": [
    {
     "name": "stderr",
     "output_type": "stream",
     "text": [
      "No handles with labels found to put in legend.\n"
     ]
    },
    {
     "data": {
      "image/png": "[encoded data removed]",
      "text/plain": [
       "<Figure size 432x288 with 1 Axes>"
      ]
     },
     "metadata": {
      "needs_background": "light"
     },
     "output_type": "display_data"
    }
   ],
   "source": [
    "plt.scatter(mean_primary,mean_literacy,color='c')\n",
    "plot('Mean Primary Completion Rate', 'Mean Literacy Rate (Adults)','Mean Literacy against Mean Primary Completion Rate')"
   ]
  },
  {
   "cell_type": "markdown",
   "id": "a5b01988",
   "metadata": {},
   "source": [
    "It appears there may be some correlation."
   ]
  },
  {
   "cell_type": "code",
   "execution_count": 80,
   "id": "4bbd484a",
   "metadata": {},
   "outputs": [
    {
     "data": {
      "text/plain": [
       "array([[1.        , 0.83937012],\n",
       "       [0.83937012, 1.        ]])"
      ]
     },
     "execution_count": 80,
     "metadata": {},
     "output_type": "execute_result"
    }
   ],
   "source": [
    "corrprimaryliteracy = np.corrcoef(mean_primary,mean_literacy)\n",
    "corrprimaryliteracy"
   ]
  },
  {
   "cell_type": "markdown",
   "id": "50c06be2",
   "metadata": {},
   "source": [
    "It turns out there is a relatively strong correlation! However, from the graph it is clear there is some spread.\n",
    "We can compare the correlation with a measure of the spread of the data by calculating the differences between the rates and then the standard deviation of those differences:"
   ]
  },
  {
   "cell_type": "code",
   "execution_count": 81,
   "id": "3098b989",
   "metadata": {},
   "outputs": [],
   "source": [
    "literacyminusprimary = mean_primary - mean_literacy\n",
    "std_l_p = np.std(literacyminusprimary)"
   ]
  },
  {
   "cell_type": "code",
   "execution_count": 82,
   "id": "ab2dadb8",
   "metadata": {},
   "outputs": [
    {
     "data": {
      "text/plain": [
       "12.422349979350038"
      ]
     },
     "execution_count": 82,
     "metadata": {},
     "output_type": "execute_result"
    }
   ],
   "source": [
    "std_l_p"
   ]
  },
  {
   "cell_type": "markdown",
   "id": "1a9551e9",
   "metadata": {},
   "source": [
    "Here we can see that the standard deviation of the differences between the rates is about 12.4%. This indicates a fairly large spread and reflects the shape of the scatter plot. It shows that a linear relationship may not be properly representative of the distribution, although a strong correlation is present."
   ]
  },
  {
   "cell_type": "markdown",
   "id": "02921b2f",
   "metadata": {},
   "source": [
    "SUMMARY OF SECTION TWO.\n",
    "\n",
    "Conclusion: Primary school completion is a good indicator of adult literacy.\n",
    "\n",
    "The advantage of studying these metrics is that they are hard data and are measured according to an internationally regulated standard.\n",
    "\n",
    "Limitations:\n",
    "\n",
    "1. The primary school competion rate and adult literacy rates were averaged over the entire time the data was taken. Therefore they are means and not necessarily representative of the trends. Some countries may have drastically improved their educational standards over the last 30 years.\n",
    "2. Many data values were missing from the dataset. Therefore, it was impossible to compare data for a given year. Although this is beyond the scope of this analysis, a way around this might be to compute means for given 5-year bins and repeat the analysis. Bins could be chosen where the dataset is least sparse. \n",
    "3. Although the correlation is strong (>0.80), a large minority of the data does not follow a linear relationship. This has not been investigated. A way to begin investigating it would be to break down the data into subcategories, perhaps by country, and rerun the analysis. Behaviour may vary hugely by country.\n",
    "\n",
    "Thank you for reading this analysis.\n",
    "\n",
    "___________________________________________________________________________________________________________________________"
   ]
  }
 ],
 "metadata": {
  "kernelspec": {
   "display_name": "Python 3",
   "language": "python",
   "name": "python3"
  },
  "language_info": {
   "codemirror_mode": {
    "name": "ipython",
    "version": 3
   },
   "file_extension": ".py",
   "mimetype": "text/x-python",
   "name": "python",
   "nbconvert_exporter": "python",
   "pygments_lexer": "ipython3",
   "version": "3.8.8"
  }
 },
 "nbformat": 4,
 "nbformat_minor": 5
}
